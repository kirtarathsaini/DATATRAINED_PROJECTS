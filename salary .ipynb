{
 "cells": [
  {
   "cell_type": "markdown",
   "id": "9b42a5c8",
   "metadata": {},
   "source": [
    "# SALARY PROJECT"
   ]
  },
  {
   "cell_type": "markdown",
   "id": "f0a5052e",
   "metadata": {},
   "source": [
    "Problem Statement- Predict the salary if the employee using the features provided in the data."
   ]
  },
  {
   "cell_type": "code",
   "execution_count": 1,
   "id": "f22d1e39",
   "metadata": {},
   "outputs": [],
   "source": [
    "import pandas as pd\n",
    "import numpy as np"
   ]
  },
  {
   "cell_type": "code",
   "execution_count": 2,
   "id": "94419945",
   "metadata": {},
   "outputs": [],
   "source": [
    "df=pd.read_csv('https://raw.githubusercontent.com/dsrscientist/dataset3/main/Salaries.csv')"
   ]
  },
  {
   "cell_type": "code",
   "execution_count": 4,
   "id": "55f5472d",
   "metadata": {},
   "outputs": [
    {
     "data": {
      "text/plain": [
       "pandas.core.frame.DataFrame"
      ]
     },
     "execution_count": 4,
     "metadata": {},
     "output_type": "execute_result"
    }
   ],
   "source": [
    "type(df)"
   ]
  },
  {
   "cell_type": "code",
   "execution_count": 5,
   "id": "02fbcda6",
   "metadata": {},
   "outputs": [
    {
     "data": {
      "text/html": [
       "<div>\n",
       "<style scoped>\n",
       "    .dataframe tbody tr th:only-of-type {\n",
       "        vertical-align: middle;\n",
       "    }\n",
       "\n",
       "    .dataframe tbody tr th {\n",
       "        vertical-align: top;\n",
       "    }\n",
       "\n",
       "    .dataframe thead th {\n",
       "        text-align: right;\n",
       "    }\n",
       "</style>\n",
       "<table border=\"1\" class=\"dataframe\">\n",
       "  <thead>\n",
       "    <tr style=\"text-align: right;\">\n",
       "      <th></th>\n",
       "      <th>rank</th>\n",
       "      <th>discipline</th>\n",
       "      <th>yrs.since.phd</th>\n",
       "      <th>yrs.service</th>\n",
       "      <th>sex</th>\n",
       "      <th>salary</th>\n",
       "    </tr>\n",
       "  </thead>\n",
       "  <tbody>\n",
       "    <tr>\n",
       "      <th>0</th>\n",
       "      <td>Prof</td>\n",
       "      <td>B</td>\n",
       "      <td>19</td>\n",
       "      <td>18</td>\n",
       "      <td>Male</td>\n",
       "      <td>139750</td>\n",
       "    </tr>\n",
       "    <tr>\n",
       "      <th>1</th>\n",
       "      <td>Prof</td>\n",
       "      <td>B</td>\n",
       "      <td>20</td>\n",
       "      <td>16</td>\n",
       "      <td>Male</td>\n",
       "      <td>173200</td>\n",
       "    </tr>\n",
       "    <tr>\n",
       "      <th>2</th>\n",
       "      <td>AsstProf</td>\n",
       "      <td>B</td>\n",
       "      <td>4</td>\n",
       "      <td>3</td>\n",
       "      <td>Male</td>\n",
       "      <td>79750</td>\n",
       "    </tr>\n",
       "    <tr>\n",
       "      <th>3</th>\n",
       "      <td>Prof</td>\n",
       "      <td>B</td>\n",
       "      <td>45</td>\n",
       "      <td>39</td>\n",
       "      <td>Male</td>\n",
       "      <td>115000</td>\n",
       "    </tr>\n",
       "    <tr>\n",
       "      <th>4</th>\n",
       "      <td>Prof</td>\n",
       "      <td>B</td>\n",
       "      <td>40</td>\n",
       "      <td>41</td>\n",
       "      <td>Male</td>\n",
       "      <td>141500</td>\n",
       "    </tr>\n",
       "    <tr>\n",
       "      <th>...</th>\n",
       "      <td>...</td>\n",
       "      <td>...</td>\n",
       "      <td>...</td>\n",
       "      <td>...</td>\n",
       "      <td>...</td>\n",
       "      <td>...</td>\n",
       "    </tr>\n",
       "    <tr>\n",
       "      <th>392</th>\n",
       "      <td>Prof</td>\n",
       "      <td>A</td>\n",
       "      <td>33</td>\n",
       "      <td>30</td>\n",
       "      <td>Male</td>\n",
       "      <td>103106</td>\n",
       "    </tr>\n",
       "    <tr>\n",
       "      <th>393</th>\n",
       "      <td>Prof</td>\n",
       "      <td>A</td>\n",
       "      <td>31</td>\n",
       "      <td>19</td>\n",
       "      <td>Male</td>\n",
       "      <td>150564</td>\n",
       "    </tr>\n",
       "    <tr>\n",
       "      <th>394</th>\n",
       "      <td>Prof</td>\n",
       "      <td>A</td>\n",
       "      <td>42</td>\n",
       "      <td>25</td>\n",
       "      <td>Male</td>\n",
       "      <td>101738</td>\n",
       "    </tr>\n",
       "    <tr>\n",
       "      <th>395</th>\n",
       "      <td>Prof</td>\n",
       "      <td>A</td>\n",
       "      <td>25</td>\n",
       "      <td>15</td>\n",
       "      <td>Male</td>\n",
       "      <td>95329</td>\n",
       "    </tr>\n",
       "    <tr>\n",
       "      <th>396</th>\n",
       "      <td>AsstProf</td>\n",
       "      <td>A</td>\n",
       "      <td>8</td>\n",
       "      <td>4</td>\n",
       "      <td>Male</td>\n",
       "      <td>81035</td>\n",
       "    </tr>\n",
       "  </tbody>\n",
       "</table>\n",
       "<p>397 rows × 6 columns</p>\n",
       "</div>"
      ],
      "text/plain": [
       "         rank discipline  yrs.since.phd  yrs.service   sex  salary\n",
       "0        Prof          B             19           18  Male  139750\n",
       "1        Prof          B             20           16  Male  173200\n",
       "2    AsstProf          B              4            3  Male   79750\n",
       "3        Prof          B             45           39  Male  115000\n",
       "4        Prof          B             40           41  Male  141500\n",
       "..        ...        ...            ...          ...   ...     ...\n",
       "392      Prof          A             33           30  Male  103106\n",
       "393      Prof          A             31           19  Male  150564\n",
       "394      Prof          A             42           25  Male  101738\n",
       "395      Prof          A             25           15  Male   95329\n",
       "396  AsstProf          A              8            4  Male   81035\n",
       "\n",
       "[397 rows x 6 columns]"
      ]
     },
     "execution_count": 5,
     "metadata": {},
     "output_type": "execute_result"
    }
   ],
   "source": [
    "df"
   ]
  },
  {
   "cell_type": "code",
   "execution_count": 8,
   "id": "46ce2bdc",
   "metadata": {},
   "outputs": [
    {
     "data": {
      "text/plain": [
       "rank             object\n",
       "discipline       object\n",
       "yrs.since.phd     int64\n",
       "yrs.service       int64\n",
       "sex              object\n",
       "salary            int64\n",
       "dtype: object"
      ]
     },
     "execution_count": 8,
     "metadata": {},
     "output_type": "execute_result"
    }
   ],
   "source": [
    "df.dtypes"
   ]
  },
  {
   "cell_type": "code",
   "execution_count": 9,
   "id": "9b1929a0",
   "metadata": {},
   "outputs": [
    {
     "data": {
      "text/html": [
       "<div>\n",
       "<style scoped>\n",
       "    .dataframe tbody tr th:only-of-type {\n",
       "        vertical-align: middle;\n",
       "    }\n",
       "\n",
       "    .dataframe tbody tr th {\n",
       "        vertical-align: top;\n",
       "    }\n",
       "\n",
       "    .dataframe thead th {\n",
       "        text-align: right;\n",
       "    }\n",
       "</style>\n",
       "<table border=\"1\" class=\"dataframe\">\n",
       "  <thead>\n",
       "    <tr style=\"text-align: right;\">\n",
       "      <th></th>\n",
       "      <th>rank</th>\n",
       "      <th>discipline</th>\n",
       "      <th>yrs.since.phd</th>\n",
       "      <th>yrs.service</th>\n",
       "      <th>sex</th>\n",
       "      <th>salary</th>\n",
       "    </tr>\n",
       "  </thead>\n",
       "  <tbody>\n",
       "    <tr>\n",
       "      <th>0</th>\n",
       "      <td>Prof</td>\n",
       "      <td>B</td>\n",
       "      <td>19</td>\n",
       "      <td>18</td>\n",
       "      <td>Male</td>\n",
       "      <td>139750</td>\n",
       "    </tr>\n",
       "    <tr>\n",
       "      <th>1</th>\n",
       "      <td>Prof</td>\n",
       "      <td>B</td>\n",
       "      <td>20</td>\n",
       "      <td>16</td>\n",
       "      <td>Male</td>\n",
       "      <td>173200</td>\n",
       "    </tr>\n",
       "    <tr>\n",
       "      <th>2</th>\n",
       "      <td>AsstProf</td>\n",
       "      <td>B</td>\n",
       "      <td>4</td>\n",
       "      <td>3</td>\n",
       "      <td>Male</td>\n",
       "      <td>79750</td>\n",
       "    </tr>\n",
       "    <tr>\n",
       "      <th>3</th>\n",
       "      <td>Prof</td>\n",
       "      <td>B</td>\n",
       "      <td>45</td>\n",
       "      <td>39</td>\n",
       "      <td>Male</td>\n",
       "      <td>115000</td>\n",
       "    </tr>\n",
       "    <tr>\n",
       "      <th>4</th>\n",
       "      <td>Prof</td>\n",
       "      <td>B</td>\n",
       "      <td>40</td>\n",
       "      <td>41</td>\n",
       "      <td>Male</td>\n",
       "      <td>141500</td>\n",
       "    </tr>\n",
       "  </tbody>\n",
       "</table>\n",
       "</div>"
      ],
      "text/plain": [
       "       rank discipline  yrs.since.phd  yrs.service   sex  salary\n",
       "0      Prof          B             19           18  Male  139750\n",
       "1      Prof          B             20           16  Male  173200\n",
       "2  AsstProf          B              4            3  Male   79750\n",
       "3      Prof          B             45           39  Male  115000\n",
       "4      Prof          B             40           41  Male  141500"
      ]
     },
     "execution_count": 9,
     "metadata": {},
     "output_type": "execute_result"
    }
   ],
   "source": [
    "df.head()"
   ]
  },
  {
   "cell_type": "code",
   "execution_count": 10,
   "id": "dd396a20",
   "metadata": {},
   "outputs": [
    {
     "data": {
      "text/html": [
       "<div>\n",
       "<style scoped>\n",
       "    .dataframe tbody tr th:only-of-type {\n",
       "        vertical-align: middle;\n",
       "    }\n",
       "\n",
       "    .dataframe tbody tr th {\n",
       "        vertical-align: top;\n",
       "    }\n",
       "\n",
       "    .dataframe thead th {\n",
       "        text-align: right;\n",
       "    }\n",
       "</style>\n",
       "<table border=\"1\" class=\"dataframe\">\n",
       "  <thead>\n",
       "    <tr style=\"text-align: right;\">\n",
       "      <th></th>\n",
       "      <th>rank</th>\n",
       "      <th>discipline</th>\n",
       "      <th>yrs.since.phd</th>\n",
       "      <th>yrs.service</th>\n",
       "      <th>sex</th>\n",
       "      <th>salary</th>\n",
       "    </tr>\n",
       "  </thead>\n",
       "  <tbody>\n",
       "    <tr>\n",
       "      <th>392</th>\n",
       "      <td>Prof</td>\n",
       "      <td>A</td>\n",
       "      <td>33</td>\n",
       "      <td>30</td>\n",
       "      <td>Male</td>\n",
       "      <td>103106</td>\n",
       "    </tr>\n",
       "    <tr>\n",
       "      <th>393</th>\n",
       "      <td>Prof</td>\n",
       "      <td>A</td>\n",
       "      <td>31</td>\n",
       "      <td>19</td>\n",
       "      <td>Male</td>\n",
       "      <td>150564</td>\n",
       "    </tr>\n",
       "    <tr>\n",
       "      <th>394</th>\n",
       "      <td>Prof</td>\n",
       "      <td>A</td>\n",
       "      <td>42</td>\n",
       "      <td>25</td>\n",
       "      <td>Male</td>\n",
       "      <td>101738</td>\n",
       "    </tr>\n",
       "    <tr>\n",
       "      <th>395</th>\n",
       "      <td>Prof</td>\n",
       "      <td>A</td>\n",
       "      <td>25</td>\n",
       "      <td>15</td>\n",
       "      <td>Male</td>\n",
       "      <td>95329</td>\n",
       "    </tr>\n",
       "    <tr>\n",
       "      <th>396</th>\n",
       "      <td>AsstProf</td>\n",
       "      <td>A</td>\n",
       "      <td>8</td>\n",
       "      <td>4</td>\n",
       "      <td>Male</td>\n",
       "      <td>81035</td>\n",
       "    </tr>\n",
       "  </tbody>\n",
       "</table>\n",
       "</div>"
      ],
      "text/plain": [
       "         rank discipline  yrs.since.phd  yrs.service   sex  salary\n",
       "392      Prof          A             33           30  Male  103106\n",
       "393      Prof          A             31           19  Male  150564\n",
       "394      Prof          A             42           25  Male  101738\n",
       "395      Prof          A             25           15  Male   95329\n",
       "396  AsstProf          A              8            4  Male   81035"
      ]
     },
     "execution_count": 10,
     "metadata": {},
     "output_type": "execute_result"
    }
   ],
   "source": [
    "df.tail()"
   ]
  },
  {
   "cell_type": "code",
   "execution_count": 11,
   "id": "44c473f8",
   "metadata": {},
   "outputs": [
    {
     "data": {
      "text/html": [
       "<div>\n",
       "<style scoped>\n",
       "    .dataframe tbody tr th:only-of-type {\n",
       "        vertical-align: middle;\n",
       "    }\n",
       "\n",
       "    .dataframe tbody tr th {\n",
       "        vertical-align: top;\n",
       "    }\n",
       "\n",
       "    .dataframe thead th {\n",
       "        text-align: right;\n",
       "    }\n",
       "</style>\n",
       "<table border=\"1\" class=\"dataframe\">\n",
       "  <thead>\n",
       "    <tr style=\"text-align: right;\">\n",
       "      <th></th>\n",
       "      <th>rank</th>\n",
       "      <th>discipline</th>\n",
       "      <th>yrs.since.phd</th>\n",
       "      <th>yrs.service</th>\n",
       "      <th>sex</th>\n",
       "      <th>salary</th>\n",
       "    </tr>\n",
       "  </thead>\n",
       "  <tbody>\n",
       "    <tr>\n",
       "      <th>301</th>\n",
       "      <td>Prof</td>\n",
       "      <td>A</td>\n",
       "      <td>27</td>\n",
       "      <td>16</td>\n",
       "      <td>Male</td>\n",
       "      <td>127100</td>\n",
       "    </tr>\n",
       "  </tbody>\n",
       "</table>\n",
       "</div>"
      ],
      "text/plain": [
       "     rank discipline  yrs.since.phd  yrs.service   sex  salary\n",
       "301  Prof          A             27           16  Male  127100"
      ]
     },
     "execution_count": 11,
     "metadata": {},
     "output_type": "execute_result"
    }
   ],
   "source": [
    "df.sample()"
   ]
  },
  {
   "cell_type": "code",
   "execution_count": 14,
   "id": "a2507d71",
   "metadata": {},
   "outputs": [
    {
     "data": {
      "text/plain": [
       "Index(['rank', 'discipline', 'yrs.since.phd', 'yrs.service', 'sex', 'salary'], dtype='object')"
      ]
     },
     "execution_count": 14,
     "metadata": {},
     "output_type": "execute_result"
    }
   ],
   "source": [
    "df.columns"
   ]
  },
  {
   "cell_type": "markdown",
   "id": "c6d628a8",
   "metadata": {},
   "source": [
    "ABOUT THE COLUMNS\n",
    "\n",
    "1.RANK- This columns tells the rank of an individual.\n",
    "\n",
    "2.DISCIPLINE- This shows the discipline of an individual towards his/her work.\n",
    "\n",
    "3.YRS.SINCE.PHD- This shows how many years have been passed after his/her phd.\n",
    "\n",
    "4.YRS.SERVICE- This shows the years of service of an individual or the experience of an individual.\n",
    "\n",
    "5.SEX- This column tells about the gender.\n",
    "\n",
    "6.SALARY- This is the target variable."
   ]
  },
  {
   "cell_type": "markdown",
   "id": "83e13a9a",
   "metadata": {},
   "source": [
    "# CHECKING FOR NULL VALUES IN THE DATA."
   ]
  },
  {
   "cell_type": "code",
   "execution_count": 15,
   "id": "c000f320",
   "metadata": {},
   "outputs": [
    {
     "data": {
      "text/html": [
       "<div>\n",
       "<style scoped>\n",
       "    .dataframe tbody tr th:only-of-type {\n",
       "        vertical-align: middle;\n",
       "    }\n",
       "\n",
       "    .dataframe tbody tr th {\n",
       "        vertical-align: top;\n",
       "    }\n",
       "\n",
       "    .dataframe thead th {\n",
       "        text-align: right;\n",
       "    }\n",
       "</style>\n",
       "<table border=\"1\" class=\"dataframe\">\n",
       "  <thead>\n",
       "    <tr style=\"text-align: right;\">\n",
       "      <th></th>\n",
       "      <th>rank</th>\n",
       "      <th>discipline</th>\n",
       "      <th>yrs.since.phd</th>\n",
       "      <th>yrs.service</th>\n",
       "      <th>sex</th>\n",
       "      <th>salary</th>\n",
       "    </tr>\n",
       "  </thead>\n",
       "  <tbody>\n",
       "    <tr>\n",
       "      <th>0</th>\n",
       "      <td>False</td>\n",
       "      <td>False</td>\n",
       "      <td>False</td>\n",
       "      <td>False</td>\n",
       "      <td>False</td>\n",
       "      <td>False</td>\n",
       "    </tr>\n",
       "    <tr>\n",
       "      <th>1</th>\n",
       "      <td>False</td>\n",
       "      <td>False</td>\n",
       "      <td>False</td>\n",
       "      <td>False</td>\n",
       "      <td>False</td>\n",
       "      <td>False</td>\n",
       "    </tr>\n",
       "    <tr>\n",
       "      <th>2</th>\n",
       "      <td>False</td>\n",
       "      <td>False</td>\n",
       "      <td>False</td>\n",
       "      <td>False</td>\n",
       "      <td>False</td>\n",
       "      <td>False</td>\n",
       "    </tr>\n",
       "    <tr>\n",
       "      <th>3</th>\n",
       "      <td>False</td>\n",
       "      <td>False</td>\n",
       "      <td>False</td>\n",
       "      <td>False</td>\n",
       "      <td>False</td>\n",
       "      <td>False</td>\n",
       "    </tr>\n",
       "    <tr>\n",
       "      <th>4</th>\n",
       "      <td>False</td>\n",
       "      <td>False</td>\n",
       "      <td>False</td>\n",
       "      <td>False</td>\n",
       "      <td>False</td>\n",
       "      <td>False</td>\n",
       "    </tr>\n",
       "    <tr>\n",
       "      <th>...</th>\n",
       "      <td>...</td>\n",
       "      <td>...</td>\n",
       "      <td>...</td>\n",
       "      <td>...</td>\n",
       "      <td>...</td>\n",
       "      <td>...</td>\n",
       "    </tr>\n",
       "    <tr>\n",
       "      <th>392</th>\n",
       "      <td>False</td>\n",
       "      <td>False</td>\n",
       "      <td>False</td>\n",
       "      <td>False</td>\n",
       "      <td>False</td>\n",
       "      <td>False</td>\n",
       "    </tr>\n",
       "    <tr>\n",
       "      <th>393</th>\n",
       "      <td>False</td>\n",
       "      <td>False</td>\n",
       "      <td>False</td>\n",
       "      <td>False</td>\n",
       "      <td>False</td>\n",
       "      <td>False</td>\n",
       "    </tr>\n",
       "    <tr>\n",
       "      <th>394</th>\n",
       "      <td>False</td>\n",
       "      <td>False</td>\n",
       "      <td>False</td>\n",
       "      <td>False</td>\n",
       "      <td>False</td>\n",
       "      <td>False</td>\n",
       "    </tr>\n",
       "    <tr>\n",
       "      <th>395</th>\n",
       "      <td>False</td>\n",
       "      <td>False</td>\n",
       "      <td>False</td>\n",
       "      <td>False</td>\n",
       "      <td>False</td>\n",
       "      <td>False</td>\n",
       "    </tr>\n",
       "    <tr>\n",
       "      <th>396</th>\n",
       "      <td>False</td>\n",
       "      <td>False</td>\n",
       "      <td>False</td>\n",
       "      <td>False</td>\n",
       "      <td>False</td>\n",
       "      <td>False</td>\n",
       "    </tr>\n",
       "  </tbody>\n",
       "</table>\n",
       "<p>397 rows × 6 columns</p>\n",
       "</div>"
      ],
      "text/plain": [
       "      rank  discipline  yrs.since.phd  yrs.service    sex  salary\n",
       "0    False       False          False        False  False   False\n",
       "1    False       False          False        False  False   False\n",
       "2    False       False          False        False  False   False\n",
       "3    False       False          False        False  False   False\n",
       "4    False       False          False        False  False   False\n",
       "..     ...         ...            ...          ...    ...     ...\n",
       "392  False       False          False        False  False   False\n",
       "393  False       False          False        False  False   False\n",
       "394  False       False          False        False  False   False\n",
       "395  False       False          False        False  False   False\n",
       "396  False       False          False        False  False   False\n",
       "\n",
       "[397 rows x 6 columns]"
      ]
     },
     "execution_count": 15,
     "metadata": {},
     "output_type": "execute_result"
    }
   ],
   "source": [
    "df.isnull()"
   ]
  },
  {
   "cell_type": "code",
   "execution_count": 16,
   "id": "d22ef3fe",
   "metadata": {},
   "outputs": [
    {
     "data": {
      "text/plain": [
       "rank             0\n",
       "discipline       0\n",
       "yrs.since.phd    0\n",
       "yrs.service      0\n",
       "sex              0\n",
       "salary           0\n",
       "dtype: int64"
      ]
     },
     "execution_count": 16,
     "metadata": {},
     "output_type": "execute_result"
    }
   ],
   "source": [
    "df.isnull().sum()"
   ]
  },
  {
   "cell_type": "markdown",
   "id": "dc632d85",
   "metadata": {},
   "source": [
    "Since there is no null value in the table so, no imputation of null values will be done. we'll simply start with the analysis of the data."
   ]
  },
  {
   "cell_type": "code",
   "execution_count": 18,
   "id": "1fc6c46e",
   "metadata": {},
   "outputs": [],
   "source": [
    "df['salary']=df['salary'].astype(float)"
   ]
  },
  {
   "cell_type": "code",
   "execution_count": 19,
   "id": "a9d5f740",
   "metadata": {},
   "outputs": [
    {
     "data": {
      "text/plain": [
       "dtype('float64')"
      ]
     },
     "execution_count": 19,
     "metadata": {},
     "output_type": "execute_result"
    }
   ],
   "source": [
    "df.salary.dtype"
   ]
  },
  {
   "cell_type": "markdown",
   "id": "c41fa80e",
   "metadata": {},
   "source": [
    "As salary is my target variable so I'm changing it's data type from int to float."
   ]
  },
  {
   "cell_type": "markdown",
   "id": "afab8dcd",
   "metadata": {},
   "source": [
    "# Visualization of data"
   ]
  },
  {
   "cell_type": "code",
   "execution_count": 20,
   "id": "001f7146",
   "metadata": {},
   "outputs": [],
   "source": [
    "import seaborn as sns"
   ]
  },
  {
   "cell_type": "code",
   "execution_count": 23,
   "id": "fd55a8e5",
   "metadata": {},
   "outputs": [
    {
     "name": "stdout",
     "output_type": "stream",
     "text": [
      "Prof         266\n",
      "AsstProf      67\n",
      "AssocProf     64\n",
      "Name: rank, dtype: int64\n"
     ]
    },
    {
     "data": {
      "image/png": "[encoded data removed]",
      "text/plain": [
       "<Figure size 432x288 with 1 Axes>"
      ]
     },
     "metadata": {
      "needs_background": "light"
     },
     "output_type": "display_data"
    }
   ],
   "source": [
    "sns.countplot(x='rank',data=df)\n",
    "print(df['rank'].value_counts())"
   ]
  },
  {
   "cell_type": "code",
   "execution_count": 30,
   "id": "3c9235f4",
   "metadata": {},
   "outputs": [
    {
     "name": "stdout",
     "output_type": "stream",
     "text": [
      "B    216\n",
      "A    181\n",
      "Name: discipline, dtype: int64\n"
     ]
    },
    {
     "data": {
      "image/png": "[encoded data removed]",
      "text/plain": [
       "<Figure size 432x288 with 1 Axes>"
      ]
     },
     "metadata": {
      "needs_background": "light"
     },
     "output_type": "display_data"
    }
   ],
   "source": [
    "sns.countplot(x='discipline',data=df)\n",
    "print(df['discipline'].value_counts())"
   ]
  },
  {
   "cell_type": "code",
   "execution_count": 40,
   "id": "58e2ce8b",
   "metadata": {},
   "outputs": [
    {
     "name": "stdout",
     "output_type": "stream",
     "text": [
      "4     19\n",
      "28    16\n",
      "8     14\n",
      "19    13\n",
      "20    13\n",
      "13    12\n",
      "12    12\n",
      "17    12\n",
      "21    11\n",
      "23    11\n",
      "38    11\n",
      "10    10\n",
      "39    10\n",
      "31    10\n",
      "11    10\n",
      "14     9\n",
      "25     9\n",
      "15     9\n",
      "22     9\n",
      "9      9\n",
      "30     9\n",
      "3      8\n",
      "27     8\n",
      "37     8\n",
      "29     8\n",
      "35     8\n",
      "33     8\n",
      "16     8\n",
      "18     8\n",
      "40     7\n",
      "32     6\n",
      "45     6\n",
      "26     6\n",
      "24     6\n",
      "6      6\n",
      "7      6\n",
      "5      6\n",
      "2      5\n",
      "43     5\n",
      "36     5\n",
      "1      4\n",
      "41     4\n",
      "42     4\n",
      "49     4\n",
      "46     4\n",
      "34     3\n",
      "56     2\n",
      "52     1\n",
      "51     1\n",
      "54     1\n",
      "47     1\n",
      "48     1\n",
      "44     1\n",
      "Name: yrs.since.phd, dtype: int64\n"
     ]
    },
    {
     "data": {
      "image/png": "[encoded data removed]",
      "text/plain": [
       "<Figure size 432x288 with 1 Axes>"
      ]
     },
     "metadata": {
      "needs_background": "light"
     },
     "output_type": "display_data"
    }
   ],
   "source": [
    "sns.countplot(x='yrs.since.phd',data=df)\n",
    "print(df['yrs.since.phd'].value_counts())"
   ]
  },
  {
   "cell_type": "code",
   "execution_count": 41,
   "id": "4450a819",
   "metadata": {},
   "outputs": [
    {
     "name": "stdout",
     "output_type": "stream",
     "text": [
      "3     22\n",
      "19    19\n",
      "7     18\n",
      "8     18\n",
      "23    16\n",
      "18    15\n",
      "9     15\n",
      "2     15\n",
      "11    14\n",
      "4     13\n",
      "1     13\n",
      "27    11\n",
      "0     11\n",
      "6     11\n",
      "10    11\n",
      "31    10\n",
      "20    10\n",
      "15     9\n",
      "30     9\n",
      "28     9\n",
      "14     8\n",
      "5      8\n",
      "16     8\n",
      "22     8\n",
      "25     8\n",
      "38     8\n",
      "26     7\n",
      "36     6\n",
      "17     6\n",
      "21     6\n",
      "12     5\n",
      "35     5\n",
      "40     5\n",
      "33     4\n",
      "37     4\n",
      "45     4\n",
      "43     4\n",
      "39     4\n",
      "44     3\n",
      "49     3\n",
      "24     2\n",
      "34     2\n",
      "53     1\n",
      "57     1\n",
      "32     1\n",
      "29     1\n",
      "41     1\n",
      "48     1\n",
      "46     1\n",
      "51     1\n",
      "13     1\n",
      "60     1\n",
      "Name: yrs.service, dtype: int64\n"
     ]
    },
    {
     "data": {
      "image/png": "[encoded data removed]",
      "text/plain": [
       "<Figure size 432x288 with 1 Axes>"
      ]
     },
     "metadata": {
      "needs_background": "light"
     },
     "output_type": "display_data"
    }
   ],
   "source": [
    "sns.countplot(x='yrs.service',data=df)\n",
    "print(df['yrs.service'].value_counts())"
   ]
  },
  {
   "cell_type": "code",
   "execution_count": 32,
   "id": "02aa2c09",
   "metadata": {},
   "outputs": [
    {
     "name": "stdout",
     "output_type": "stream",
     "text": [
      "Male      358\n",
      "Female     39\n",
      "Name: sex, dtype: int64\n"
     ]
    },
    {
     "data": {
      "image/png": "[encoded data removed]",
      "text/plain": [
       "<Figure size 432x288 with 1 Axes>"
      ]
     },
     "metadata": {
      "needs_background": "light"
     },
     "output_type": "display_data"
    }
   ],
   "source": [
    "sns.countplot(x='sex',data=df)\n",
    "print(df['sex'].value_counts())"
   ]
  },
  {
   "cell_type": "markdown",
   "id": "186c966e",
   "metadata": {},
   "source": [
    "# Checking the distribution of continuous value of the float data type columns."
   ]
  },
  {
   "cell_type": "code",
   "execution_count": 42,
   "id": "f5424108",
   "metadata": {},
   "outputs": [
    {
     "data": {
      "text/plain": [
       "<seaborn.axisgrid.FacetGrid at 0x19b7a4abb80>"
      ]
     },
     "execution_count": 42,
     "metadata": {},
     "output_type": "execute_result"
    },
    {
     "data": {
      "image/png": "[encoded data removed]",
      "text/plain": [
       "<Figure size 360x360 with 1 Axes>"
      ]
     },
     "metadata": {
      "needs_background": "light"
     },
     "output_type": "display_data"
    }
   ],
   "source": [
    "sns.displot(df['salary'],kde=True)"
   ]
  },
  {
   "cell_type": "markdown",
   "id": "b70ae1e0",
   "metadata": {},
   "source": [
    "# Encoding the data"
   ]
  },
  {
   "cell_type": "code",
   "execution_count": 43,
   "id": "52cfac75",
   "metadata": {},
   "outputs": [],
   "source": [
    "from sklearn.preprocessing import OrdinalEncoder"
   ]
  },
  {
   "cell_type": "code",
   "execution_count": 44,
   "id": "9163f5c0",
   "metadata": {},
   "outputs": [],
   "source": [
    "en=OrdinalEncoder()"
   ]
  },
  {
   "cell_type": "code",
   "execution_count": 46,
   "id": "5377fe16",
   "metadata": {},
   "outputs": [],
   "source": [
    "for i in df.columns:\n",
    "    if df[i].dtype=='object':\n",
    "        df[i]=en.fit_transform(df[i].values.reshape(-1,1))"
   ]
  },
  {
   "cell_type": "code",
   "execution_count": 47,
   "id": "006a11eb",
   "metadata": {},
   "outputs": [
    {
     "data": {
      "text/html": [
       "<div>\n",
       "<style scoped>\n",
       "    .dataframe tbody tr th:only-of-type {\n",
       "        vertical-align: middle;\n",
       "    }\n",
       "\n",
       "    .dataframe tbody tr th {\n",
       "        vertical-align: top;\n",
       "    }\n",
       "\n",
       "    .dataframe thead th {\n",
       "        text-align: right;\n",
       "    }\n",
       "</style>\n",
       "<table border=\"1\" class=\"dataframe\">\n",
       "  <thead>\n",
       "    <tr style=\"text-align: right;\">\n",
       "      <th></th>\n",
       "      <th>rank</th>\n",
       "      <th>discipline</th>\n",
       "      <th>yrs.since.phd</th>\n",
       "      <th>yrs.service</th>\n",
       "      <th>sex</th>\n",
       "      <th>salary</th>\n",
       "    </tr>\n",
       "  </thead>\n",
       "  <tbody>\n",
       "    <tr>\n",
       "      <th>0</th>\n",
       "      <td>2.0</td>\n",
       "      <td>1.0</td>\n",
       "      <td>19</td>\n",
       "      <td>18</td>\n",
       "      <td>1.0</td>\n",
       "      <td>139750.0</td>\n",
       "    </tr>\n",
       "    <tr>\n",
       "      <th>1</th>\n",
       "      <td>2.0</td>\n",
       "      <td>1.0</td>\n",
       "      <td>20</td>\n",
       "      <td>16</td>\n",
       "      <td>1.0</td>\n",
       "      <td>173200.0</td>\n",
       "    </tr>\n",
       "    <tr>\n",
       "      <th>2</th>\n",
       "      <td>1.0</td>\n",
       "      <td>1.0</td>\n",
       "      <td>4</td>\n",
       "      <td>3</td>\n",
       "      <td>1.0</td>\n",
       "      <td>79750.0</td>\n",
       "    </tr>\n",
       "    <tr>\n",
       "      <th>3</th>\n",
       "      <td>2.0</td>\n",
       "      <td>1.0</td>\n",
       "      <td>45</td>\n",
       "      <td>39</td>\n",
       "      <td>1.0</td>\n",
       "      <td>115000.0</td>\n",
       "    </tr>\n",
       "    <tr>\n",
       "      <th>4</th>\n",
       "      <td>2.0</td>\n",
       "      <td>1.0</td>\n",
       "      <td>40</td>\n",
       "      <td>41</td>\n",
       "      <td>1.0</td>\n",
       "      <td>141500.0</td>\n",
       "    </tr>\n",
       "    <tr>\n",
       "      <th>...</th>\n",
       "      <td>...</td>\n",
       "      <td>...</td>\n",
       "      <td>...</td>\n",
       "      <td>...</td>\n",
       "      <td>...</td>\n",
       "      <td>...</td>\n",
       "    </tr>\n",
       "    <tr>\n",
       "      <th>392</th>\n",
       "      <td>2.0</td>\n",
       "      <td>0.0</td>\n",
       "      <td>33</td>\n",
       "      <td>30</td>\n",
       "      <td>1.0</td>\n",
       "      <td>103106.0</td>\n",
       "    </tr>\n",
       "    <tr>\n",
       "      <th>393</th>\n",
       "      <td>2.0</td>\n",
       "      <td>0.0</td>\n",
       "      <td>31</td>\n",
       "      <td>19</td>\n",
       "      <td>1.0</td>\n",
       "      <td>150564.0</td>\n",
       "    </tr>\n",
       "    <tr>\n",
       "      <th>394</th>\n",
       "      <td>2.0</td>\n",
       "      <td>0.0</td>\n",
       "      <td>42</td>\n",
       "      <td>25</td>\n",
       "      <td>1.0</td>\n",
       "      <td>101738.0</td>\n",
       "    </tr>\n",
       "    <tr>\n",
       "      <th>395</th>\n",
       "      <td>2.0</td>\n",
       "      <td>0.0</td>\n",
       "      <td>25</td>\n",
       "      <td>15</td>\n",
       "      <td>1.0</td>\n",
       "      <td>95329.0</td>\n",
       "    </tr>\n",
       "    <tr>\n",
       "      <th>396</th>\n",
       "      <td>1.0</td>\n",
       "      <td>0.0</td>\n",
       "      <td>8</td>\n",
       "      <td>4</td>\n",
       "      <td>1.0</td>\n",
       "      <td>81035.0</td>\n",
       "    </tr>\n",
       "  </tbody>\n",
       "</table>\n",
       "<p>397 rows × 6 columns</p>\n",
       "</div>"
      ],
      "text/plain": [
       "     rank  discipline  yrs.since.phd  yrs.service  sex    salary\n",
       "0     2.0         1.0             19           18  1.0  139750.0\n",
       "1     2.0         1.0             20           16  1.0  173200.0\n",
       "2     1.0         1.0              4            3  1.0   79750.0\n",
       "3     2.0         1.0             45           39  1.0  115000.0\n",
       "4     2.0         1.0             40           41  1.0  141500.0\n",
       "..    ...         ...            ...          ...  ...       ...\n",
       "392   2.0         0.0             33           30  1.0  103106.0\n",
       "393   2.0         0.0             31           19  1.0  150564.0\n",
       "394   2.0         0.0             42           25  1.0  101738.0\n",
       "395   2.0         0.0             25           15  1.0   95329.0\n",
       "396   1.0         0.0              8            4  1.0   81035.0\n",
       "\n",
       "[397 rows x 6 columns]"
      ]
     },
     "execution_count": 47,
     "metadata": {},
     "output_type": "execute_result"
    }
   ],
   "source": [
    "df"
   ]
  },
  {
   "cell_type": "markdown",
   "id": "e806f9ea",
   "metadata": {},
   "source": [
    "# Describing The Data"
   ]
  },
  {
   "cell_type": "code",
   "execution_count": 48,
   "id": "97beb037",
   "metadata": {},
   "outputs": [
    {
     "data": {
      "text/html": [
       "<div>\n",
       "<style scoped>\n",
       "    .dataframe tbody tr th:only-of-type {\n",
       "        vertical-align: middle;\n",
       "    }\n",
       "\n",
       "    .dataframe tbody tr th {\n",
       "        vertical-align: top;\n",
       "    }\n",
       "\n",
       "    .dataframe thead th {\n",
       "        text-align: right;\n",
       "    }\n",
       "</style>\n",
       "<table border=\"1\" class=\"dataframe\">\n",
       "  <thead>\n",
       "    <tr style=\"text-align: right;\">\n",
       "      <th></th>\n",
       "      <th>rank</th>\n",
       "      <th>discipline</th>\n",
       "      <th>yrs.since.phd</th>\n",
       "      <th>yrs.service</th>\n",
       "      <th>sex</th>\n",
       "      <th>salary</th>\n",
       "    </tr>\n",
       "  </thead>\n",
       "  <tbody>\n",
       "    <tr>\n",
       "      <th>count</th>\n",
       "      <td>397.000000</td>\n",
       "      <td>397.000000</td>\n",
       "      <td>397.000000</td>\n",
       "      <td>397.000000</td>\n",
       "      <td>397.000000</td>\n",
       "      <td>397.000000</td>\n",
       "    </tr>\n",
       "    <tr>\n",
       "      <th>mean</th>\n",
       "      <td>1.508816</td>\n",
       "      <td>0.544081</td>\n",
       "      <td>22.314861</td>\n",
       "      <td>17.614610</td>\n",
       "      <td>0.901763</td>\n",
       "      <td>113706.458438</td>\n",
       "    </tr>\n",
       "    <tr>\n",
       "      <th>std</th>\n",
       "      <td>0.757486</td>\n",
       "      <td>0.498682</td>\n",
       "      <td>12.887003</td>\n",
       "      <td>13.006024</td>\n",
       "      <td>0.298010</td>\n",
       "      <td>30289.038695</td>\n",
       "    </tr>\n",
       "    <tr>\n",
       "      <th>min</th>\n",
       "      <td>0.000000</td>\n",
       "      <td>0.000000</td>\n",
       "      <td>1.000000</td>\n",
       "      <td>0.000000</td>\n",
       "      <td>0.000000</td>\n",
       "      <td>57800.000000</td>\n",
       "    </tr>\n",
       "    <tr>\n",
       "      <th>25%</th>\n",
       "      <td>1.000000</td>\n",
       "      <td>0.000000</td>\n",
       "      <td>12.000000</td>\n",
       "      <td>7.000000</td>\n",
       "      <td>1.000000</td>\n",
       "      <td>91000.000000</td>\n",
       "    </tr>\n",
       "    <tr>\n",
       "      <th>50%</th>\n",
       "      <td>2.000000</td>\n",
       "      <td>1.000000</td>\n",
       "      <td>21.000000</td>\n",
       "      <td>16.000000</td>\n",
       "      <td>1.000000</td>\n",
       "      <td>107300.000000</td>\n",
       "    </tr>\n",
       "    <tr>\n",
       "      <th>75%</th>\n",
       "      <td>2.000000</td>\n",
       "      <td>1.000000</td>\n",
       "      <td>32.000000</td>\n",
       "      <td>27.000000</td>\n",
       "      <td>1.000000</td>\n",
       "      <td>134185.000000</td>\n",
       "    </tr>\n",
       "    <tr>\n",
       "      <th>max</th>\n",
       "      <td>2.000000</td>\n",
       "      <td>1.000000</td>\n",
       "      <td>56.000000</td>\n",
       "      <td>60.000000</td>\n",
       "      <td>1.000000</td>\n",
       "      <td>231545.000000</td>\n",
       "    </tr>\n",
       "  </tbody>\n",
       "</table>\n",
       "</div>"
      ],
      "text/plain": [
       "             rank  discipline  yrs.since.phd  yrs.service         sex  \\\n",
       "count  397.000000  397.000000     397.000000   397.000000  397.000000   \n",
       "mean     1.508816    0.544081      22.314861    17.614610    0.901763   \n",
       "std      0.757486    0.498682      12.887003    13.006024    0.298010   \n",
       "min      0.000000    0.000000       1.000000     0.000000    0.000000   \n",
       "25%      1.000000    0.000000      12.000000     7.000000    1.000000   \n",
       "50%      2.000000    1.000000      21.000000    16.000000    1.000000   \n",
       "75%      2.000000    1.000000      32.000000    27.000000    1.000000   \n",
       "max      2.000000    1.000000      56.000000    60.000000    1.000000   \n",
       "\n",
       "              salary  \n",
       "count     397.000000  \n",
       "mean   113706.458438  \n",
       "std     30289.038695  \n",
       "min     57800.000000  \n",
       "25%     91000.000000  \n",
       "50%    107300.000000  \n",
       "75%    134185.000000  \n",
       "max    231545.000000  "
      ]
     },
     "execution_count": 48,
     "metadata": {},
     "output_type": "execute_result"
    }
   ],
   "source": [
    "df.describe()"
   ]
  },
  {
   "cell_type": "code",
   "execution_count": 55,
   "id": "3f98b5ce",
   "metadata": {},
   "outputs": [
    {
     "data": {
      "text/plain": [
       "<AxesSubplot:>"
      ]
     },
     "execution_count": 55,
     "metadata": {},
     "output_type": "execute_result"
    },
    {
     "data": {
      "image/png": "[encoded data removed]",
      "text/plain": [
       "<Figure size 720x576 with 2 Axes>"
      ]
     },
     "metadata": {
      "needs_background": "light"
     },
     "output_type": "display_data"
    }
   ],
   "source": [
    "import matplotlib.pyplot as plt\n",
    "plt.figure(figsize=(10,8))\n",
    "sns.heatmap(df.describe(),annot=True,linewidths=2,linecolor='Black',fmt='.2f')"
   ]
  },
  {
   "cell_type": "markdown",
   "id": "278aa0e2",
   "metadata": {},
   "source": [
    "# Checking correlation of columns with the target variable."
   ]
  },
  {
   "cell_type": "code",
   "execution_count": 51,
   "id": "8b0c4e68",
   "metadata": {},
   "outputs": [
    {
     "data": {
      "text/plain": [
       "sex              0.138610\n",
       "discipline       0.156084\n",
       "yrs.service      0.334745\n",
       "yrs.since.phd    0.419231\n",
       "rank             0.522207\n",
       "salary           1.000000\n",
       "Name: salary, dtype: float64"
      ]
     },
     "execution_count": 51,
     "metadata": {},
     "output_type": "execute_result"
    }
   ],
   "source": [
    "df.corr()['salary'].sort_values()"
   ]
  },
  {
   "cell_type": "code",
   "execution_count": 56,
   "id": "fffa6404",
   "metadata": {},
   "outputs": [
    {
     "data": {
      "text/plain": [
       "<AxesSubplot:>"
      ]
     },
     "execution_count": 56,
     "metadata": {},
     "output_type": "execute_result"
    },
    {
     "data": {
      "image/png": "[encoded data removed]",
      "text/plain": [
       "<Figure size 720x576 with 2 Axes>"
      ]
     },
     "metadata": {
      "needs_background": "light"
     },
     "output_type": "display_data"
    }
   ],
   "source": [
    "plt.figure(figsize=(10,8))\n",
    "sns.heatmap(df.corr(),annot=True,linewidths=2,linecolor='Black',fmt='0.2f')"
   ]
  },
  {
   "cell_type": "markdown",
   "id": "8a207f3e",
   "metadata": {},
   "source": [
    "# checking the columns which are positively and negatively correlated to the target variable."
   ]
  },
  {
   "cell_type": "code",
   "execution_count": 57,
   "id": "878d0b82",
   "metadata": {},
   "outputs": [
    {
     "data": {
      "image/png": "[encoded data removed]",
      "text/plain": [
       "<Figure size 720x576 with 1 Axes>"
      ]
     },
     "metadata": {
      "needs_background": "light"
     },
     "output_type": "display_data"
    }
   ],
   "source": [
    "plt.figure(figsize=(10,8))\n",
    "df.corr()['salary'].sort_values(ascending=False).drop(['salary']).plot(kind='bar',color='c')\n",
    "plt.xlabel('features',fontsize=12)\n",
    "plt.ylabel('column with target names',fontsize=12)\n",
    "plt.title('correlation',fontsize=14)\n",
    "plt.show()"
   ]
  },
  {
   "cell_type": "markdown",
   "id": "6b814779",
   "metadata": {},
   "source": [
    "as we can see that all the columns are positively correlated to the target variable."
   ]
  },
  {
   "cell_type": "markdown",
   "id": "66637db1",
   "metadata": {},
   "source": [
    "# checking the skewness "
   ]
  },
  {
   "cell_type": "code",
   "execution_count": 59,
   "id": "a9857c89",
   "metadata": {},
   "outputs": [
    {
     "data": {
      "text/plain": [
       "rank            -1.151164\n",
       "discipline      -0.177684\n",
       "yrs.since.phd    0.300880\n",
       "yrs.service      0.650569\n",
       "sex             -2.709958\n",
       "salary           0.714568\n",
       "dtype: float64"
      ]
     },
     "execution_count": 59,
     "metadata": {},
     "output_type": "execute_result"
    }
   ],
   "source": [
    "df.skew()"
   ]
  },
  {
   "cell_type": "markdown",
   "id": "ffe88d08",
   "metadata": {},
   "source": [
    "keeping -/+0.5 as the range of skewness. \n",
    "Here are the columns that are not in range."
   ]
  },
  {
   "cell_type": "markdown",
   "id": "059683dc",
   "metadata": {},
   "source": [
    "rank is categorical data we won't touch it too,   salary is continuous and is target variable we'll ignore it,  so we are left with yrs.service and yrs.since.phd"
   ]
  },
  {
   "cell_type": "markdown",
   "id": "703efc0b",
   "metadata": {},
   "source": [
    "# checking outliers"
   ]
  },
  {
   "cell_type": "code",
   "execution_count": 61,
   "id": "e2c444d7",
   "metadata": {},
   "outputs": [],
   "source": [
    "import warnings\n",
    "warnings.filterwarnings('ignore')"
   ]
  },
  {
   "cell_type": "code",
   "execution_count": 62,
   "id": "53326d13",
   "metadata": {},
   "outputs": [],
   "source": [
    "collist=df.columns.values\n",
    "ncol=30\n",
    "nrow=14"
   ]
  },
  {
   "cell_type": "code",
   "execution_count": 63,
   "id": "e792624f",
   "metadata": {},
   "outputs": [
    {
     "data": {
      "text/plain": [
       "array(['rank', 'discipline', 'yrs.since.phd', 'yrs.service', 'sex',\n",
       "       'salary'], dtype=object)"
      ]
     },
     "execution_count": 63,
     "metadata": {},
     "output_type": "execute_result"
    }
   ],
   "source": [
    "collist"
   ]
  },
  {
   "cell_type": "code",
   "execution_count": 65,
   "id": "79103f1a",
   "metadata": {},
   "outputs": [
    {
     "name": "stdout",
     "output_type": "stream",
     "text": [
      "rank\n"
     ]
    }
   ],
   "source": [
    "for i in range(0,len(collist)):\n",
    "    print(collist[i])\n",
    "    break"
   ]
  },
  {
   "cell_type": "code",
   "execution_count": 66,
   "id": "8c19ab6b",
   "metadata": {},
   "outputs": [
    {
     "data": {
      "image/png": "[encoded data removed]",
      "text/plain": [
       "<Figure size 2160x6480 with 6 Axes>"
      ]
     },
     "metadata": {
      "needs_background": "light"
     },
     "output_type": "display_data"
    }
   ],
   "source": [
    "plt.figure(figsize=(ncol,3*ncol))\n",
    "for i in range(0,len(collist)):\n",
    "    plt.subplot(nrow,ncol,i+1)\n",
    "    sns.boxplot(data = df[collist[i]],color='green',orient='v')\n",
    "    plt.tight_layout()"
   ]
  },
  {
   "cell_type": "markdown",
   "id": "e8cfe8e6",
   "metadata": {},
   "source": [
    "# Removing Outliers"
   ]
  },
  {
   "cell_type": "code",
   "execution_count": 76,
   "id": "477a18fe",
   "metadata": {},
   "outputs": [
    {
     "data": {
      "text/plain": [
       "(397, 6)"
      ]
     },
     "execution_count": 76,
     "metadata": {},
     "output_type": "execute_result"
    }
   ],
   "source": [
    "df.shape"
   ]
  },
  {
   "cell_type": "code",
   "execution_count": 77,
   "id": "0bb662f0",
   "metadata": {},
   "outputs": [],
   "source": [
    "from scipy.stats import zscore"
   ]
  },
  {
   "cell_type": "code",
   "execution_count": 78,
   "id": "ea884987",
   "metadata": {},
   "outputs": [
    {
     "data": {
      "text/plain": [
       "(array([  9,  19,  24,  34,  35,  43,  47,  48,  52,  63,  68,  84,  90,\n",
       "        103, 114, 119, 123, 127, 131, 132, 133, 148, 153, 179, 186, 218,\n",
       "        230, 231, 233, 237, 245, 253, 254, 274, 316, 323, 330, 332, 334,\n",
       "        341, 358, 361, 364], dtype=int64),\n",
       " array([4, 4, 4, 4, 4, 5, 4, 4, 4, 4, 4, 4, 4, 4, 4, 4, 4, 4, 3, 4, 4, 4,\n",
       "        4, 4, 4, 4, 4, 4, 4, 4, 4, 4, 4, 4, 4, 4, 3, 4, 4, 4, 4, 4, 5],\n",
       "       dtype=int64))"
      ]
     },
     "execution_count": 78,
     "metadata": {},
     "output_type": "execute_result"
    }
   ],
   "source": [
    "import numpy as np\n",
    "z=np.abs(zscore(df))\n",
    "threshold=3\n",
    "np.where(z>3)"
   ]
  },
  {
   "cell_type": "code",
   "execution_count": 79,
   "id": "7ef3aaac",
   "metadata": {},
   "outputs": [],
   "source": [
    "df_new=df[(z<3).all(axis=1)]"
   ]
  },
  {
   "cell_type": "code",
   "execution_count": 80,
   "id": "d54a5ca7",
   "metadata": {},
   "outputs": [
    {
     "data": {
      "text/html": [
       "<div>\n",
       "<style scoped>\n",
       "    .dataframe tbody tr th:only-of-type {\n",
       "        vertical-align: middle;\n",
       "    }\n",
       "\n",
       "    .dataframe tbody tr th {\n",
       "        vertical-align: top;\n",
       "    }\n",
       "\n",
       "    .dataframe thead th {\n",
       "        text-align: right;\n",
       "    }\n",
       "</style>\n",
       "<table border=\"1\" class=\"dataframe\">\n",
       "  <thead>\n",
       "    <tr style=\"text-align: right;\">\n",
       "      <th></th>\n",
       "      <th>rank</th>\n",
       "      <th>discipline</th>\n",
       "      <th>yrs.since.phd</th>\n",
       "      <th>yrs.service</th>\n",
       "      <th>sex</th>\n",
       "      <th>salary</th>\n",
       "    </tr>\n",
       "  </thead>\n",
       "  <tbody>\n",
       "    <tr>\n",
       "      <th>0</th>\n",
       "      <td>2.0</td>\n",
       "      <td>1.0</td>\n",
       "      <td>19</td>\n",
       "      <td>18</td>\n",
       "      <td>1.0</td>\n",
       "      <td>139750.0</td>\n",
       "    </tr>\n",
       "    <tr>\n",
       "      <th>1</th>\n",
       "      <td>2.0</td>\n",
       "      <td>1.0</td>\n",
       "      <td>20</td>\n",
       "      <td>16</td>\n",
       "      <td>1.0</td>\n",
       "      <td>173200.0</td>\n",
       "    </tr>\n",
       "    <tr>\n",
       "      <th>2</th>\n",
       "      <td>1.0</td>\n",
       "      <td>1.0</td>\n",
       "      <td>4</td>\n",
       "      <td>3</td>\n",
       "      <td>1.0</td>\n",
       "      <td>79750.0</td>\n",
       "    </tr>\n",
       "    <tr>\n",
       "      <th>3</th>\n",
       "      <td>2.0</td>\n",
       "      <td>1.0</td>\n",
       "      <td>45</td>\n",
       "      <td>39</td>\n",
       "      <td>1.0</td>\n",
       "      <td>115000.0</td>\n",
       "    </tr>\n",
       "    <tr>\n",
       "      <th>4</th>\n",
       "      <td>2.0</td>\n",
       "      <td>1.0</td>\n",
       "      <td>40</td>\n",
       "      <td>41</td>\n",
       "      <td>1.0</td>\n",
       "      <td>141500.0</td>\n",
       "    </tr>\n",
       "    <tr>\n",
       "      <th>...</th>\n",
       "      <td>...</td>\n",
       "      <td>...</td>\n",
       "      <td>...</td>\n",
       "      <td>...</td>\n",
       "      <td>...</td>\n",
       "      <td>...</td>\n",
       "    </tr>\n",
       "    <tr>\n",
       "      <th>392</th>\n",
       "      <td>2.0</td>\n",
       "      <td>0.0</td>\n",
       "      <td>33</td>\n",
       "      <td>30</td>\n",
       "      <td>1.0</td>\n",
       "      <td>103106.0</td>\n",
       "    </tr>\n",
       "    <tr>\n",
       "      <th>393</th>\n",
       "      <td>2.0</td>\n",
       "      <td>0.0</td>\n",
       "      <td>31</td>\n",
       "      <td>19</td>\n",
       "      <td>1.0</td>\n",
       "      <td>150564.0</td>\n",
       "    </tr>\n",
       "    <tr>\n",
       "      <th>394</th>\n",
       "      <td>2.0</td>\n",
       "      <td>0.0</td>\n",
       "      <td>42</td>\n",
       "      <td>25</td>\n",
       "      <td>1.0</td>\n",
       "      <td>101738.0</td>\n",
       "    </tr>\n",
       "    <tr>\n",
       "      <th>395</th>\n",
       "      <td>2.0</td>\n",
       "      <td>0.0</td>\n",
       "      <td>25</td>\n",
       "      <td>15</td>\n",
       "      <td>1.0</td>\n",
       "      <td>95329.0</td>\n",
       "    </tr>\n",
       "    <tr>\n",
       "      <th>396</th>\n",
       "      <td>1.0</td>\n",
       "      <td>0.0</td>\n",
       "      <td>8</td>\n",
       "      <td>4</td>\n",
       "      <td>1.0</td>\n",
       "      <td>81035.0</td>\n",
       "    </tr>\n",
       "  </tbody>\n",
       "</table>\n",
       "<p>354 rows × 6 columns</p>\n",
       "</div>"
      ],
      "text/plain": [
       "     rank  discipline  yrs.since.phd  yrs.service  sex    salary\n",
       "0     2.0         1.0             19           18  1.0  139750.0\n",
       "1     2.0         1.0             20           16  1.0  173200.0\n",
       "2     1.0         1.0              4            3  1.0   79750.0\n",
       "3     2.0         1.0             45           39  1.0  115000.0\n",
       "4     2.0         1.0             40           41  1.0  141500.0\n",
       "..    ...         ...            ...          ...  ...       ...\n",
       "392   2.0         0.0             33           30  1.0  103106.0\n",
       "393   2.0         0.0             31           19  1.0  150564.0\n",
       "394   2.0         0.0             42           25  1.0  101738.0\n",
       "395   2.0         0.0             25           15  1.0   95329.0\n",
       "396   1.0         0.0              8            4  1.0   81035.0\n",
       "\n",
       "[354 rows x 6 columns]"
      ]
     },
     "execution_count": 80,
     "metadata": {},
     "output_type": "execute_result"
    }
   ],
   "source": [
    "df_new"
   ]
  },
  {
   "cell_type": "code",
   "execution_count": 81,
   "id": "9ccbce23",
   "metadata": {},
   "outputs": [
    {
     "data": {
      "text/plain": [
       "(354, 6)"
      ]
     },
     "execution_count": 81,
     "metadata": {},
     "output_type": "execute_result"
    }
   ],
   "source": [
    "df_new.shape"
   ]
  },
  {
   "cell_type": "code",
   "execution_count": 82,
   "id": "ff4cc59e",
   "metadata": {},
   "outputs": [],
   "source": [
    "data_loss=((397-354)/397)*100"
   ]
  },
  {
   "cell_type": "code",
   "execution_count": 83,
   "id": "664af1cf",
   "metadata": {},
   "outputs": [
    {
     "data": {
      "text/plain": [
       "10.831234256926953"
      ]
     },
     "execution_count": 83,
     "metadata": {},
     "output_type": "execute_result"
    }
   ],
   "source": [
    "data_loss"
   ]
  },
  {
   "cell_type": "markdown",
   "id": "92fa9e34",
   "metadata": {},
   "source": [
    "This is the percentage of data lost"
   ]
  },
  {
   "cell_type": "markdown",
   "id": "82c59e57",
   "metadata": {},
   "source": [
    "we will not be using df_new to build our model as outliers are present in the target column and we do not do anything in target column"
   ]
  },
  {
   "cell_type": "markdown",
   "id": "4fbb3382",
   "metadata": {},
   "source": [
    "# seperating features and the target variable"
   ]
  },
  {
   "cell_type": "code",
   "execution_count": 93,
   "id": "3faca76f",
   "metadata": {},
   "outputs": [],
   "source": [
    "fea=df.drop('salary',axis=1)\n",
    "target=df['salary']"
   ]
  },
  {
   "cell_type": "markdown",
   "id": "e69f9ea2",
   "metadata": {},
   "source": [
    "# scaling the data using min max scaler"
   ]
  },
  {
   "cell_type": "code",
   "execution_count": 99,
   "id": "3df143bc",
   "metadata": {},
   "outputs": [],
   "source": [
    "from sklearn.preprocessing import MinMaxScaler\n",
    "mms=MinMaxScaler()\n",
    "from sklearn.linear_model import LinearRegression\n",
    "lr=LinearRegression()\n",
    "from sklearn.metrics import r2_score\n",
    "from sklearn.model_selection import train_test_split"
   ]
  },
  {
   "cell_type": "code",
   "execution_count": 100,
   "id": "2c176e51",
   "metadata": {},
   "outputs": [],
   "source": [
    "import warnings\n",
    "warnings.filterwarnings('ignore')"
   ]
  },
  {
   "cell_type": "code",
   "execution_count": 105,
   "id": "1a12af89",
   "metadata": {},
   "outputs": [
    {
     "name": "stdout",
     "output_type": "stream",
     "text": [
      "at random state 0,the train accuracy is:- 0.36119999548530757\n",
      "at random state 0,the testing accuracy is:- 0.40792583149752315\n",
      "\n",
      "\n",
      "at random state 1,the train accuracy is:- 0.3604245854198438\n",
      "at random state 1,the testing accuracy is:- 0.4163364187662949\n",
      "\n",
      "\n",
      "at random state 2,the train accuracy is:- 0.37547390964955596\n",
      "at random state 2,the testing accuracy is:- 0.36001895545266915\n",
      "\n",
      "\n",
      "at random state 3,the train accuracy is:- 0.3847313825130594\n",
      "at random state 3,the testing accuracy is:- 0.329352987501086\n",
      "\n",
      "\n",
      "at random state 4,the train accuracy is:- 0.38517450334380454\n",
      "at random state 4,the testing accuracy is:- 0.30440081333156155\n",
      "\n",
      "\n",
      "at random state 5,the train accuracy is:- 0.3950033630150771\n",
      "at random state 5,the testing accuracy is:- 0.2752907752774736\n",
      "\n",
      "\n",
      "at random state 6,the train accuracy is:- 0.3650308031752798\n",
      "at random state 6,the testing accuracy is:- 0.4018987080607571\n",
      "\n",
      "\n",
      "at random state 7,the train accuracy is:- 0.3575963886324032\n",
      "at random state 7,the testing accuracy is:- 0.4360314983336847\n",
      "\n",
      "\n",
      "at random state 8,the train accuracy is:- 0.37078641617615615\n",
      "at random state 8,the testing accuracy is:- 0.3520895860059552\n",
      "\n",
      "\n",
      "at random state 9,the train accuracy is:- 0.3689988332195655\n",
      "at random state 9,the testing accuracy is:- 0.3880754485440503\n",
      "\n",
      "\n",
      "at random state 10,the train accuracy is:- 0.3833769683025209\n",
      "at random state 10,the testing accuracy is:- 0.3237669060179079\n",
      "\n",
      "\n",
      "at random state 11,the train accuracy is:- 0.3847188415624321\n",
      "at random state 11,the testing accuracy is:- 0.28083083929305563\n",
      "\n",
      "\n",
      "at random state 12,the train accuracy is:- 0.3767666823112952\n",
      "at random state 12,the testing accuracy is:- 0.34397033297856505\n",
      "\n",
      "\n",
      "at random state 13,the train accuracy is:- 0.37914531495889037\n",
      "at random state 13,the testing accuracy is:- 0.3037213930266667\n",
      "\n",
      "\n",
      "at random state 14,the train accuracy is:- 0.41589783697137583\n",
      "at random state 14,the testing accuracy is:- 0.15184410537740545\n",
      "\n",
      "\n",
      "at random state 15,the train accuracy is:- 0.37127624600584874\n",
      "at random state 15,the testing accuracy is:- 0.35351934262062823\n",
      "\n",
      "\n",
      "at random state 16,the train accuracy is:- 0.3878621443484205\n",
      "at random state 16,the testing accuracy is:- 0.2924139340497035\n",
      "\n",
      "\n",
      "at random state 17,the train accuracy is:- 0.3897546182765135\n",
      "at random state 17,the testing accuracy is:- 0.26101811962187227\n",
      "\n",
      "\n",
      "at random state 18,the train accuracy is:- 0.3650413646278945\n",
      "at random state 18,the testing accuracy is:- 0.3698468335200642\n",
      "\n",
      "\n",
      "at random state 19,the train accuracy is:- 0.36478587974538956\n",
      "at random state 19,the testing accuracy is:- 0.3942926604679201\n",
      "\n",
      "\n",
      "at random state 20,the train accuracy is:- 0.3622414400227314\n",
      "at random state 20,the testing accuracy is:- 0.40106505357197053\n",
      "\n",
      "\n",
      "at random state 21,the train accuracy is:- 0.3935643702731856\n",
      "at random state 21,the testing accuracy is:- 0.28484864022169354\n",
      "\n",
      "\n",
      "at random state 22,the train accuracy is:- 0.3848789411044249\n",
      "at random state 22,the testing accuracy is:- 0.3105065511907833\n",
      "\n",
      "\n",
      "at random state 23,the train accuracy is:- 0.388340130912739\n",
      "at random state 23,the testing accuracy is:- 0.3090832300219746\n",
      "\n",
      "\n",
      "at random state 24,the train accuracy is:- 0.4009695516201147\n",
      "at random state 24,the testing accuracy is:- 0.23700622039991392\n",
      "\n",
      "\n",
      "at random state 25,the train accuracy is:- 0.3872852164225197\n",
      "at random state 25,the testing accuracy is:- 0.2857545713280293\n",
      "\n",
      "\n",
      "at random state 26,the train accuracy is:- 0.373492521722562\n",
      "at random state 26,the testing accuracy is:- 0.3570465945472763\n",
      "\n",
      "\n",
      "at random state 27,the train accuracy is:- 0.3853612529960597\n",
      "at random state 27,the testing accuracy is:- 0.3200883336422755\n",
      "\n",
      "\n",
      "at random state 28,the train accuracy is:- 0.4053914345039713\n",
      "at random state 28,the testing accuracy is:- 0.22969703483016013\n",
      "\n",
      "\n",
      "at random state 29,the train accuracy is:- 0.40451288485532433\n",
      "at random state 29,the testing accuracy is:- 0.19765027396884804\n",
      "\n",
      "\n",
      "at random state 30,the train accuracy is:- 0.36693572181305\n",
      "at random state 30,the testing accuracy is:- 0.3783571251635153\n",
      "\n",
      "\n",
      "at random state 31,the train accuracy is:- 0.3795313750170515\n",
      "at random state 31,the testing accuracy is:- 0.3229513807282972\n",
      "\n",
      "\n",
      "at random state 32,the train accuracy is:- 0.3685576596306932\n",
      "at random state 32,the testing accuracy is:- 0.3671499580137658\n",
      "\n",
      "\n",
      "at random state 33,the train accuracy is:- 0.374633324232825\n",
      "at random state 33,the testing accuracy is:- 0.3503249588399542\n",
      "\n",
      "\n",
      "at random state 34,the train accuracy is:- 0.3670604216412361\n",
      "at random state 34,the testing accuracy is:- 0.3924145850362383\n",
      "\n",
      "\n",
      "at random state 35,the train accuracy is:- 0.3849378452508391\n",
      "at random state 35,the testing accuracy is:- 0.33147987417573754\n",
      "\n",
      "\n",
      "at random state 36,the train accuracy is:- 0.3847552137593607\n",
      "at random state 36,the testing accuracy is:- 0.2703900592740791\n",
      "\n",
      "\n",
      "at random state 37,the train accuracy is:- 0.34899945766206086\n",
      "at random state 37,the testing accuracy is:- 0.4128426546458116\n",
      "\n",
      "\n",
      "at random state 38,the train accuracy is:- 0.38650707960273367\n",
      "at random state 38,the testing accuracy is:- 0.2833985042820415\n",
      "\n",
      "\n",
      "at random state 39,the train accuracy is:- 0.3706020285098687\n",
      "at random state 39,the testing accuracy is:- 0.3718833413484989\n",
      "\n",
      "\n",
      "at random state 40,the train accuracy is:- 0.3642294289210505\n",
      "at random state 40,the testing accuracy is:- 0.3925435827595458\n",
      "\n",
      "\n",
      "at random state 41,the train accuracy is:- 0.3609173288430392\n",
      "at random state 41,the testing accuracy is:- 0.4018359148946382\n",
      "\n",
      "\n",
      "at random state 42,the train accuracy is:- 0.4200558658334025\n",
      "at random state 42,the testing accuracy is:- 0.10796880791419616\n",
      "\n",
      "\n",
      "at random state 43,the train accuracy is:- 0.4041459448446313\n",
      "at random state 43,the testing accuracy is:- 0.25754093508042974\n",
      "\n",
      "\n",
      "at random state 44,the train accuracy is:- 0.3725463631852006\n",
      "at random state 44,the testing accuracy is:- 0.3671356850817833\n",
      "\n",
      "\n",
      "at random state 45,the train accuracy is:- 0.4137230485402983\n",
      "at random state 45,the testing accuracy is:- 0.22445225846745354\n",
      "\n",
      "\n",
      "at random state 46,the train accuracy is:- 0.3437256240883124\n",
      "at random state 46,the testing accuracy is:- 0.3896606094506979\n",
      "\n",
      "\n",
      "at random state 47,the train accuracy is:- 0.37188114106913295\n",
      "at random state 47,the testing accuracy is:- 0.35395872265988104\n",
      "\n",
      "\n",
      "at random state 48,the train accuracy is:- 0.36429183378263275\n",
      "at random state 48,the testing accuracy is:- 0.3979596000732686\n",
      "\n",
      "\n",
      "at random state 49,the train accuracy is:- 0.377539855714624\n",
      "at random state 49,the testing accuracy is:- 0.33197433115663066\n",
      "\n",
      "\n",
      "at random state 50,the train accuracy is:- 0.37893923298505605\n",
      "at random state 50,the testing accuracy is:- 0.34563177771023357\n",
      "\n",
      "\n",
      "at random state 51,the train accuracy is:- 0.3748812535527184\n",
      "at random state 51,the testing accuracy is:- 0.34622301247708853\n",
      "\n",
      "\n",
      "at random state 52,the train accuracy is:- 0.3690443454685478\n",
      "at random state 52,the testing accuracy is:- 0.3682296312128147\n",
      "\n",
      "\n",
      "at random state 53,the train accuracy is:- 0.3646780402149977\n",
      "at random state 53,the testing accuracy is:- 0.3864862432119227\n",
      "\n",
      "\n",
      "at random state 54,the train accuracy is:- 0.3812097696299068\n",
      "at random state 54,the testing accuracy is:- 0.3230795326762549\n",
      "\n",
      "\n",
      "at random state 55,the train accuracy is:- 0.3804240550840484\n",
      "at random state 55,the testing accuracy is:- 0.3272919939417781\n",
      "\n",
      "\n",
      "at random state 56,the train accuracy is:- 0.38888132640425854\n",
      "at random state 56,the testing accuracy is:- 0.2619212862528705\n",
      "\n",
      "\n",
      "at random state 57,the train accuracy is:- 0.36282545034634306\n",
      "at random state 57,the testing accuracy is:- 0.4099319211959537\n",
      "\n",
      "\n",
      "at random state 58,the train accuracy is:- 0.3904276399883323\n",
      "at random state 58,the testing accuracy is:- 0.28087570332280665\n",
      "\n",
      "\n",
      "at random state 59,the train accuracy is:- 0.36918999968594834\n",
      "at random state 59,the testing accuracy is:- 0.36721675911308405\n",
      "\n",
      "\n",
      "at random state 60,the train accuracy is:- 0.36276157486159943\n",
      "at random state 60,the testing accuracy is:- 0.4342158637805855\n",
      "\n",
      "\n",
      "at random state 61,the train accuracy is:- 0.3596569629577455\n",
      "at random state 61,the testing accuracy is:- 0.42430912062832304\n",
      "\n",
      "\n",
      "at random state 62,the train accuracy is:- 0.36218820814339425\n",
      "at random state 62,the testing accuracy is:- 0.3402679535175044\n",
      "\n",
      "\n",
      "at random state 63,the train accuracy is:- 0.36020153914715214\n",
      "at random state 63,the testing accuracy is:- 0.40925944052697116\n",
      "\n",
      "\n",
      "at random state 64,the train accuracy is:- 0.34487518402780026\n",
      "at random state 64,the testing accuracy is:- 0.45685137910944595\n",
      "\n",
      "\n",
      "at random state 65,the train accuracy is:- 0.3966493366743805\n",
      "at random state 65,the testing accuracy is:- 0.27103911844105455\n",
      "\n",
      "\n",
      "at random state 66,the train accuracy is:- 0.36941312653397496\n",
      "at random state 66,the testing accuracy is:- 0.37171519604211156\n",
      "\n",
      "\n",
      "at random state 67,the train accuracy is:- 0.3577974392746197\n",
      "at random state 67,the testing accuracy is:- 0.4089321958973776\n",
      "\n",
      "\n",
      "at random state 68,the train accuracy is:- 0.4112434481572017\n",
      "at random state 68,the testing accuracy is:- 0.1876030590518647\n",
      "\n",
      "\n",
      "at random state 69,the train accuracy is:- 0.3583537425297256\n",
      "at random state 69,the testing accuracy is:- 0.4055461597734453\n",
      "\n",
      "\n",
      "at random state 70,the train accuracy is:- 0.40782071088368554\n",
      "at random state 70,the testing accuracy is:- 0.12457420628140259\n",
      "\n",
      "\n",
      "at random state 71,the train accuracy is:- 0.3798566422299211\n",
      "at random state 71,the testing accuracy is:- 0.3310077740650834\n",
      "\n",
      "\n",
      "at random state 72,the train accuracy is:- 0.37306545398657154\n",
      "at random state 72,the testing accuracy is:- 0.33282576705225164\n",
      "\n",
      "\n",
      "at random state 73,the train accuracy is:- 0.3684736133822437\n",
      "at random state 73,the testing accuracy is:- 0.3756517084867398\n",
      "\n",
      "\n",
      "at random state 74,the train accuracy is:- 0.36328541761317845\n",
      "at random state 74,the testing accuracy is:- 0.414540570310433\n",
      "\n",
      "\n",
      "at random state 75,the train accuracy is:- 0.3699093187667536\n",
      "at random state 75,the testing accuracy is:- 0.37665450836382297\n",
      "\n",
      "\n",
      "at random state 76,the train accuracy is:- 0.3893765947869846\n",
      "at random state 76,the testing accuracy is:- 0.2446996775975493\n",
      "\n",
      "\n",
      "at random state 77,the train accuracy is:- 0.36208736257404006\n",
      "at random state 77,the testing accuracy is:- 0.38689241011567244\n",
      "\n",
      "\n",
      "at random state 78,the train accuracy is:- 0.3936404592790971\n",
      "at random state 78,the testing accuracy is:- 0.2786653093015008\n",
      "\n",
      "\n",
      "at random state 79,the train accuracy is:- 0.3400734467804928\n",
      "at random state 79,the testing accuracy is:- 0.5084908819694649\n",
      "\n",
      "\n",
      "at random state 80,the train accuracy is:- 0.34891747740210666\n",
      "at random state 80,the testing accuracy is:- 0.5086207408821506\n",
      "\n",
      "\n",
      "at random state 81,the train accuracy is:- 0.35513373474139565\n",
      "at random state 81,the testing accuracy is:- 0.4149346606972969\n",
      "\n",
      "\n",
      "at random state 82,the train accuracy is:- 0.37417707170637116\n",
      "at random state 82,the testing accuracy is:- 0.3509979602373102\n",
      "\n",
      "\n",
      "at random state 83,the train accuracy is:- 0.3777269477125591\n",
      "at random state 83,the testing accuracy is:- 0.323672073767867\n",
      "\n",
      "\n",
      "at random state 84,the train accuracy is:- 0.38401378181768153\n",
      "at random state 84,the testing accuracy is:- 0.3127841540168669\n",
      "\n",
      "\n",
      "at random state 85,the train accuracy is:- 0.376142718876315\n",
      "at random state 85,the testing accuracy is:- 0.35006127408867393\n",
      "\n",
      "\n",
      "at random state 86,the train accuracy is:- 0.3767878645972712\n",
      "at random state 86,the testing accuracy is:- 0.3444389459787979\n",
      "\n",
      "\n",
      "at random state 87,the train accuracy is:- 0.386606834116077\n",
      "at random state 87,the testing accuracy is:- 0.2295416451299277\n",
      "\n",
      "\n",
      "at random state 88,the train accuracy is:- 0.3555900942301573\n",
      "at random state 88,the testing accuracy is:- 0.4462737924208696\n",
      "\n",
      "\n",
      "at random state 89,the train accuracy is:- 0.3776188229055102\n",
      "at random state 89,the testing accuracy is:- 0.3382111271087993\n",
      "\n",
      "\n",
      "at random state 90,the train accuracy is:- 0.35598740233084814\n",
      "at random state 90,the testing accuracy is:- 0.4188943675785999\n",
      "\n",
      "\n",
      "at random state 91,the train accuracy is:- 0.37189951588468795\n",
      "at random state 91,the testing accuracy is:- 0.3601565810059806\n",
      "\n",
      "\n",
      "at random state 92,the train accuracy is:- 0.37459606418072844\n",
      "at random state 92,the testing accuracy is:- 0.3541542254552803\n",
      "\n",
      "\n",
      "at random state 93,the train accuracy is:- 0.4045365985584488\n",
      "at random state 93,the testing accuracy is:- 0.22737572896847547\n",
      "\n",
      "\n",
      "at random state 94,the train accuracy is:- 0.39372739145675384\n",
      "at random state 94,the testing accuracy is:- 0.2720604116480444\n",
      "\n",
      "\n",
      "at random state 95,the train accuracy is:- 0.3862133774021912\n",
      "at random state 95,the testing accuracy is:- 0.3010575834925825\n",
      "\n",
      "\n",
      "at random state 96,the train accuracy is:- 0.3544193864212418\n",
      "at random state 96,the testing accuracy is:- 0.4253245406131324\n",
      "\n",
      "\n",
      "at random state 97,the train accuracy is:- 0.36415109406161483\n",
      "at random state 97,the testing accuracy is:- 0.41014984649060593\n",
      "\n",
      "\n",
      "at random state 98,the train accuracy is:- 0.34983395760007263\n",
      "at random state 98,the testing accuracy is:- 0.4322690928833409\n",
      "\n",
      "\n",
      "at random state 99,the train accuracy is:- 0.3640872612019751\n",
      "at random state 99,the testing accuracy is:- 0.41102180904046104\n",
      "\n",
      "\n"
     ]
    }
   ],
   "source": [
    "for i in range(0,100):\n",
    "    fea_train,fea_test,target_train,target_test=train_test_split(fea,target,test_size=0.2,random_state=i)\n",
    "    lr.fit(fea_train,target_train)\n",
    "    pre_train=lr.predict(fea_train)\n",
    "    pre_test=lr.predict(fea_test)\n",
    "    print(f\"at random state {i},the train accuracy is:- {r2_score(target_train,pre_train)}\")\n",
    "    print(f\"at random state {i},the testing accuracy is:- {r2_score(target_test,pre_test)}\")\n",
    "    print('\\n')"
   ]
  },
  {
   "cell_type": "code",
   "execution_count": 114,
   "id": "a675ab0e",
   "metadata": {},
   "outputs": [],
   "source": [
    "fea_train,fea_test,target_train,target_test=train_test_split(fea,target,test_size=0.2,random_state=80)"
   ]
  },
  {
   "cell_type": "code",
   "execution_count": 115,
   "id": "755fae7a",
   "metadata": {},
   "outputs": [
    {
     "data": {
      "text/plain": [
       "LinearRegression()"
      ]
     },
     "execution_count": 115,
     "metadata": {},
     "output_type": "execute_result"
    }
   ],
   "source": [
    "lr.fit(fea_train,target_train)"
   ]
  },
  {
   "cell_type": "markdown",
   "id": "dfa9893b",
   "metadata": {},
   "source": [
    "test accuracy"
   ]
  },
  {
   "cell_type": "code",
   "execution_count": 116,
   "id": "9c2ad7bb",
   "metadata": {},
   "outputs": [],
   "source": [
    "pre_test=lr.predict(fea_test)"
   ]
  },
  {
   "cell_type": "code",
   "execution_count": 117,
   "id": "12ec1b5a",
   "metadata": {},
   "outputs": [
    {
     "name": "stdout",
     "output_type": "stream",
     "text": [
      "0.5086207408821506\n"
     ]
    }
   ],
   "source": [
    " print(r2_score(target_test,pre_test))"
   ]
  },
  {
   "cell_type": "markdown",
   "id": "cd881862",
   "metadata": {},
   "source": [
    "train accuracy"
   ]
  },
  {
   "cell_type": "code",
   "execution_count": 118,
   "id": "d197ee1b",
   "metadata": {},
   "outputs": [],
   "source": [
    " pre_train=lr.predict(fea_train)"
   ]
  },
  {
   "cell_type": "code",
   "execution_count": 119,
   "id": "c3a4f4ef",
   "metadata": {},
   "outputs": [
    {
     "name": "stdout",
     "output_type": "stream",
     "text": [
      "0.34891747740210666\n"
     ]
    }
   ],
   "source": [
    "print(r2_score(target_train,pre_train))"
   ]
  },
  {
   "cell_type": "code",
   "execution_count": 123,
   "id": "4aa123d9",
   "metadata": {},
   "outputs": [
    {
     "name": "stdout",
     "output_type": "stream",
     "text": [
      "at cross fold 2 the cv score is 0.32708011674065085 and accuracy score for training is 0.34891747740210666 and accuracy score for testing is 0.5086207408821506\n",
      "\n",
      "\n",
      "at cross fold 3 the cv score is 0.32033286730598814 and accuracy score for training is 0.34891747740210666 and accuracy score for testing is 0.5086207408821506\n",
      "\n",
      "\n",
      "at cross fold 4 the cv score is 0.32181966937683604 and accuracy score for training is 0.34891747740210666 and accuracy score for testing is 0.5086207408821506\n",
      "\n",
      "\n",
      "at cross fold 5 the cv score is 0.29569928663871764 and accuracy score for training is 0.34891747740210666 and accuracy score for testing is 0.5086207408821506\n",
      "\n",
      "\n",
      "at cross fold 6 the cv score is 0.33096341839295573 and accuracy score for training is 0.34891747740210666 and accuracy score for testing is 0.5086207408821506\n",
      "\n",
      "\n",
      "at cross fold 7 the cv score is 0.3257704419996536 and accuracy score for training is 0.34891747740210666 and accuracy score for testing is 0.5086207408821506\n",
      "\n",
      "\n",
      "at cross fold 8 the cv score is 0.33100605845135816 and accuracy score for training is 0.34891747740210666 and accuracy score for testing is 0.5086207408821506\n",
      "\n",
      "\n",
      "at cross fold 9 the cv score is 0.3043911239889372 and accuracy score for training is 0.34891747740210666 and accuracy score for testing is 0.5086207408821506\n",
      "\n",
      "\n"
     ]
    }
   ],
   "source": [
    "train_accuracy=r2_score(target_train,pre_train)\n",
    "testing_accuracy=r2_score(target_test,pre_test)\n",
    "\n",
    "from sklearn.model_selection import cross_val_score\n",
    "for j in range(2,10):\n",
    "    cv_score=cross_val_score(lr,fea,target,cv=j)\n",
    "    cv_mean=cv_score.mean()\n",
    "    print(f\"at cross fold {j} the cv score is {cv_mean} and accuracy score for training is {train_accuracy} and accuracy score for testing is {testing_accuracy}\")\n",
    "    print('\\n')"
   ]
  },
  {
   "cell_type": "markdown",
   "id": "add34fce",
   "metadata": {},
   "source": [
    "since the number of fold don't have such impact on accuracy and cv score so cv=6 is selected."
   ]
  },
  {
   "cell_type": "markdown",
   "id": "42c0481a",
   "metadata": {},
   "source": [
    "we have to handle the problem of overfitting and underfitting by checking training and testing score."
   ]
  },
  {
   "cell_type": "code",
   "execution_count": 128,
   "id": "0124cc28",
   "metadata": {},
   "outputs": [
    {
     "data": {
      "image/png": "[encoded data removed]",
      "text/plain": [
       "<Figure size 432x288 with 1 Axes>"
      ]
     },
     "metadata": {
      "needs_background": "light"
     },
     "output_type": "display_data"
    }
   ],
   "source": [
    "import matplotlib.pyplot as plt\n",
    "plt.figure(figsize=(6,4))\n",
    "plt.scatter(x=target_test, y=pre_test, color='r')\n",
    "plt.plot(target_test,target_test,color='b')\n",
    "plt.xlabel('actual charges',fontsize=12)\n",
    "plt.ylabel('predict charges',fontsize=12)\n",
    "plt.title('linear regression',fontsize=18)\n",
    "plt.savefig('lr.png')\n",
    "plt.show()\n",
    "\n"
   ]
  },
  {
   "cell_type": "code",
   "execution_count": 130,
   "id": "f310481d",
   "metadata": {},
   "outputs": [],
   "source": [
    "from sklearn.model_selection import GridSearchCV\n",
    "from sklearn.model_selection import cross_val_score\n",
    "import warnings\n",
    "warnings.filterwarnings('ignore')"
   ]
  },
  {
   "cell_type": "code",
   "execution_count": 139,
   "id": "7e3b9c60",
   "metadata": {},
   "outputs": [
    {
     "name": "stdout",
     "output_type": "stream",
     "text": [
      "{'alpha': 10, 'random_state': 0}\n"
     ]
    }
   ],
   "source": [
    "from sklearn.linear_model import Lasso\n",
    "parameters ={'alpha':[.0001,.001,.01,1,10],'random_state':list(range(0,10))}\n",
    "ls=Lasso()\n",
    "clf = GridSearchCV(ls,parameters)\n",
    "clf.fit(fea_train,target_train)\n",
    "print(clf.best_params_)\n"
   ]
  },
  {
   "cell_type": "markdown",
   "id": "c6b90362",
   "metadata": {},
   "source": [
    "# final model training"
   ]
  },
  {
   "cell_type": "code",
   "execution_count": 140,
   "id": "2782e4f7",
   "metadata": {},
   "outputs": [
    {
     "data": {
      "text/plain": [
       "34.89174595002764"
      ]
     },
     "execution_count": 140,
     "metadata": {},
     "output_type": "execute_result"
    }
   ],
   "source": [
    "ls=Lasso(alpha=1,random_state=0)\n",
    "ls.fit(fea_train,target_train)\n",
    "ls_score_training=ls.score(fea_train,target_train)\n",
    "pred_ls=ls.predict(fea_test)\n",
    "ls_score_training*100"
   ]
  },
  {
   "cell_type": "code",
   "execution_count": 144,
   "id": "82ef98ec",
   "metadata": {},
   "outputs": [],
   "source": [
    "pred_ls=ls.predict(fea_test)"
   ]
  },
  {
   "cell_type": "code",
   "execution_count": 146,
   "id": "103043d4",
   "metadata": {},
   "outputs": [
    {
     "data": {
      "text/plain": [
       "50.86013415515278"
      ]
     },
     "execution_count": 146,
     "metadata": {},
     "output_type": "execute_result"
    }
   ],
   "source": [
    "lss=r2_score(target_test,pred_ls)\n",
    "lss*100"
   ]
  },
  {
   "cell_type": "code",
   "execution_count": 147,
   "id": "d2b767b9",
   "metadata": {},
   "outputs": [
    {
     "data": {
      "text/plain": [
       "33.096312716799694"
      ]
     },
     "execution_count": 147,
     "metadata": {},
     "output_type": "execute_result"
    }
   ],
   "source": [
    "cv_score=cross_val_score(ls,fea,target,cv=6)\n",
    "cv_mean=cv_score.mean()\n",
    "cv_mean*100"
   ]
  },
  {
   "cell_type": "markdown",
   "id": "aebee00b",
   "metadata": {},
   "source": [
    "# ensemble technique"
   ]
  },
  {
   "cell_type": "code",
   "execution_count": 152,
   "id": "06c0696d",
   "metadata": {},
   "outputs": [
    {
     "name": "stdout",
     "output_type": "stream",
     "text": [
      "{'criterion': 'mae', 'max_features': 'sqrt'}\n"
     ]
    }
   ],
   "source": [
    "from sklearn.model_selection import GridSearchCV\n",
    "from sklearn.ensemble import RandomForestRegressor\n",
    "parameters={'criterion':['mse','mae'],'max_features':['auto','sqrt','log2']}\n",
    "rf=RandomForestRegressor()\n",
    "clf=GridSearchCV(rf,parameters)\n",
    "clf.fit(fea_train,target_train)\n",
    "\n",
    "print(clf.best_params_)\n",
    "    "
   ]
  },
  {
   "cell_type": "code",
   "execution_count": 158,
   "id": "559f38a7",
   "metadata": {},
   "outputs": [
    {
     "ename": "SyntaxError",
     "evalue": "invalid syntax (Temp/ipykernel_33436/3528679050.py, line 7)",
     "output_type": "error",
     "traceback": [
      "\u001b[1;36m  File \u001b[1;32m\"C:\\Users\\HP\\AppData\\Local\\Temp/ipykernel_33436/3528679050.py\"\u001b[1;36m, line \u001b[1;32m7\u001b[0m\n\u001b[1;33m    print('r2_score is'rfs*100)\u001b[0m\n\u001b[1;37m                       ^\u001b[0m\n\u001b[1;31mSyntaxError\u001b[0m\u001b[1;31m:\u001b[0m invalid syntax\n"
     ]
    }
   ],
   "source": [
    "rf=RandomForestRegressor(criterion='mae',max_features='auto')\n",
    "rf.fit(fea_train,target_train)\n",
    "rf.score(fea_train,target_train)\n",
    "prediction_decision=rf.predict(fea_test)\n",
    "\n",
    "rfs=r2(target_test,prediction_decision)\n",
    "print('r2_score is'rfs*100)\n",
    "\n",
    "rfscore=cross_val_score(rf,feature,target,cv=6)\n",
    "rfc=rfscore.mean()\n",
    "print('cross val score'rfc*100)"
   ]
  },
  {
   "cell_type": "code",
   "execution_count": 159,
   "id": "13f937a4",
   "metadata": {},
   "outputs": [],
   "source": [
    "import pickle\n",
    "filename='salary.pkl'\n",
    "pickle.dump(rf,open(filename,'wb'))\n"
   ]
  },
  {
   "cell_type": "code",
   "execution_count": 160,
   "id": "70792649",
   "metadata": {},
   "outputs": [
    {
     "ename": "NotFittedError",
     "evalue": "This RandomForestRegressor instance is not fitted yet. Call 'fit' with appropriate arguments before using this estimator.",
     "output_type": "error",
     "traceback": [
      "\u001b[1;31m---------------------------------------------------------------------------\u001b[0m",
      "\u001b[1;31mNotFittedError\u001b[0m                            Traceback (most recent call last)",
      "\u001b[1;32m~\\AppData\\Local\\Temp/ipykernel_33436/2485180357.py\u001b[0m in \u001b[0;36m<module>\u001b[1;34m\u001b[0m\n\u001b[0;32m      1\u001b[0m \u001b[0ml_model\u001b[0m\u001b[1;33m=\u001b[0m\u001b[0mpickle\u001b[0m\u001b[1;33m.\u001b[0m\u001b[0mload\u001b[0m\u001b[1;33m(\u001b[0m\u001b[0mopen\u001b[0m\u001b[1;33m(\u001b[0m\u001b[1;34m'salary.pkl'\u001b[0m\u001b[1;33m,\u001b[0m\u001b[1;34m'rb'\u001b[0m\u001b[1;33m)\u001b[0m\u001b[1;33m)\u001b[0m\u001b[1;33m\u001b[0m\u001b[1;33m\u001b[0m\u001b[0m\n\u001b[1;32m----> 2\u001b[1;33m \u001b[0mresult\u001b[0m\u001b[1;33m=\u001b[0m\u001b[0ml_model\u001b[0m\u001b[1;33m.\u001b[0m\u001b[0mscore\u001b[0m\u001b[1;33m(\u001b[0m\u001b[0mfea_test\u001b[0m\u001b[1;33m,\u001b[0m\u001b[0mtarget_test\u001b[0m\u001b[1;33m)\u001b[0m\u001b[1;33m\u001b[0m\u001b[1;33m\u001b[0m\u001b[0m\n\u001b[0m\u001b[0;32m      3\u001b[0m \u001b[0mprint\u001b[0m\u001b[1;33m(\u001b[0m\u001b[0mresult\u001b[0m\u001b[1;33m*\u001b[0m\u001b[1;36m100\u001b[0m\u001b[1;33m)\u001b[0m\u001b[1;33m\u001b[0m\u001b[1;33m\u001b[0m\u001b[0m\n",
      "\u001b[1;32m~\\anaconda3\\lib\\site-packages\\sklearn\\base.py\u001b[0m in \u001b[0;36mscore\u001b[1;34m(self, X, y, sample_weight)\u001b[0m\n\u001b[0;32m    551\u001b[0m \u001b[1;33m\u001b[0m\u001b[0m\n\u001b[0;32m    552\u001b[0m         \u001b[1;32mfrom\u001b[0m \u001b[1;33m.\u001b[0m\u001b[0mmetrics\u001b[0m \u001b[1;32mimport\u001b[0m \u001b[0mr2_score\u001b[0m\u001b[1;33m\u001b[0m\u001b[1;33m\u001b[0m\u001b[0m\n\u001b[1;32m--> 553\u001b[1;33m         \u001b[0my_pred\u001b[0m \u001b[1;33m=\u001b[0m \u001b[0mself\u001b[0m\u001b[1;33m.\u001b[0m\u001b[0mpredict\u001b[0m\u001b[1;33m(\u001b[0m\u001b[0mX\u001b[0m\u001b[1;33m)\u001b[0m\u001b[1;33m\u001b[0m\u001b[1;33m\u001b[0m\u001b[0m\n\u001b[0m\u001b[0;32m    554\u001b[0m         \u001b[1;32mreturn\u001b[0m \u001b[0mr2_score\u001b[0m\u001b[1;33m(\u001b[0m\u001b[0my\u001b[0m\u001b[1;33m,\u001b[0m \u001b[0my_pred\u001b[0m\u001b[1;33m,\u001b[0m \u001b[0msample_weight\u001b[0m\u001b[1;33m=\u001b[0m\u001b[0msample_weight\u001b[0m\u001b[1;33m)\u001b[0m\u001b[1;33m\u001b[0m\u001b[1;33m\u001b[0m\u001b[0m\n\u001b[0;32m    555\u001b[0m \u001b[1;33m\u001b[0m\u001b[0m\n",
      "\u001b[1;32m~\\anaconda3\\lib\\site-packages\\sklearn\\ensemble\\_forest.py\u001b[0m in \u001b[0;36mpredict\u001b[1;34m(self, X)\u001b[0m\n\u001b[0;32m    780\u001b[0m             \u001b[0mThe\u001b[0m \u001b[0mpredicted\u001b[0m \u001b[0mvalues\u001b[0m\u001b[1;33m.\u001b[0m\u001b[1;33m\u001b[0m\u001b[1;33m\u001b[0m\u001b[0m\n\u001b[0;32m    781\u001b[0m         \"\"\"\n\u001b[1;32m--> 782\u001b[1;33m         \u001b[0mcheck_is_fitted\u001b[0m\u001b[1;33m(\u001b[0m\u001b[0mself\u001b[0m\u001b[1;33m)\u001b[0m\u001b[1;33m\u001b[0m\u001b[1;33m\u001b[0m\u001b[0m\n\u001b[0m\u001b[0;32m    783\u001b[0m         \u001b[1;31m# Check data\u001b[0m\u001b[1;33m\u001b[0m\u001b[1;33m\u001b[0m\u001b[0m\n\u001b[0;32m    784\u001b[0m         \u001b[0mX\u001b[0m \u001b[1;33m=\u001b[0m \u001b[0mself\u001b[0m\u001b[1;33m.\u001b[0m\u001b[0m_validate_X_predict\u001b[0m\u001b[1;33m(\u001b[0m\u001b[0mX\u001b[0m\u001b[1;33m)\u001b[0m\u001b[1;33m\u001b[0m\u001b[1;33m\u001b[0m\u001b[0m\n",
      "\u001b[1;32m~\\anaconda3\\lib\\site-packages\\sklearn\\utils\\validation.py\u001b[0m in \u001b[0;36minner_f\u001b[1;34m(*args, **kwargs)\u001b[0m\n\u001b[0;32m     61\u001b[0m             \u001b[0mextra_args\u001b[0m \u001b[1;33m=\u001b[0m \u001b[0mlen\u001b[0m\u001b[1;33m(\u001b[0m\u001b[0margs\u001b[0m\u001b[1;33m)\u001b[0m \u001b[1;33m-\u001b[0m \u001b[0mlen\u001b[0m\u001b[1;33m(\u001b[0m\u001b[0mall_args\u001b[0m\u001b[1;33m)\u001b[0m\u001b[1;33m\u001b[0m\u001b[1;33m\u001b[0m\u001b[0m\n\u001b[0;32m     62\u001b[0m             \u001b[1;32mif\u001b[0m \u001b[0mextra_args\u001b[0m \u001b[1;33m<=\u001b[0m \u001b[1;36m0\u001b[0m\u001b[1;33m:\u001b[0m\u001b[1;33m\u001b[0m\u001b[1;33m\u001b[0m\u001b[0m\n\u001b[1;32m---> 63\u001b[1;33m                 \u001b[1;32mreturn\u001b[0m \u001b[0mf\u001b[0m\u001b[1;33m(\u001b[0m\u001b[1;33m*\u001b[0m\u001b[0margs\u001b[0m\u001b[1;33m,\u001b[0m \u001b[1;33m**\u001b[0m\u001b[0mkwargs\u001b[0m\u001b[1;33m)\u001b[0m\u001b[1;33m\u001b[0m\u001b[1;33m\u001b[0m\u001b[0m\n\u001b[0m\u001b[0;32m     64\u001b[0m \u001b[1;33m\u001b[0m\u001b[0m\n\u001b[0;32m     65\u001b[0m             \u001b[1;31m# extra_args > 0\u001b[0m\u001b[1;33m\u001b[0m\u001b[1;33m\u001b[0m\u001b[0m\n",
      "\u001b[1;32m~\\anaconda3\\lib\\site-packages\\sklearn\\utils\\validation.py\u001b[0m in \u001b[0;36mcheck_is_fitted\u001b[1;34m(estimator, attributes, msg, all_or_any)\u001b[0m\n\u001b[0;32m   1096\u001b[0m \u001b[1;33m\u001b[0m\u001b[0m\n\u001b[0;32m   1097\u001b[0m     \u001b[1;32mif\u001b[0m \u001b[1;32mnot\u001b[0m \u001b[0mattrs\u001b[0m\u001b[1;33m:\u001b[0m\u001b[1;33m\u001b[0m\u001b[1;33m\u001b[0m\u001b[0m\n\u001b[1;32m-> 1098\u001b[1;33m         \u001b[1;32mraise\u001b[0m \u001b[0mNotFittedError\u001b[0m\u001b[1;33m(\u001b[0m\u001b[0mmsg\u001b[0m \u001b[1;33m%\u001b[0m \u001b[1;33m{\u001b[0m\u001b[1;34m'name'\u001b[0m\u001b[1;33m:\u001b[0m \u001b[0mtype\u001b[0m\u001b[1;33m(\u001b[0m\u001b[0mestimator\u001b[0m\u001b[1;33m)\u001b[0m\u001b[1;33m.\u001b[0m\u001b[0m__name__\u001b[0m\u001b[1;33m}\u001b[0m\u001b[1;33m)\u001b[0m\u001b[1;33m\u001b[0m\u001b[1;33m\u001b[0m\u001b[0m\n\u001b[0m\u001b[0;32m   1099\u001b[0m \u001b[1;33m\u001b[0m\u001b[0m\n\u001b[0;32m   1100\u001b[0m \u001b[1;33m\u001b[0m\u001b[0m\n",
      "\u001b[1;31mNotFittedError\u001b[0m: This RandomForestRegressor instance is not fitted yet. Call 'fit' with appropriate arguments before using this estimator."
     ]
    }
   ],
   "source": [
    "l_model=pickle.load(open('salary.pkl','rb'))\n",
    "result=l_model.score(fea_test,target_test)\n",
    "print(result*100)\n"
   ]
  },
  {
   "cell_type": "code",
   "execution_count": null,
   "id": "be3d3b12",
   "metadata": {},
   "outputs": [],
   "source": []
  },
  {
   "cell_type": "code",
   "execution_count": null,
   "id": "0e1f1bae",
   "metadata": {},
   "outputs": [],
   "source": []
  }
 ],
 "metadata": {
  "kernelspec": {
   "display_name": "Python 3 (ipykernel)",
   "language": "python",
   "name": "python3"
  },
  "language_info": {
   "codemirror_mode": {
    "name": "ipython",
    "version": 3
   },
   "file_extension": ".py",
   "mimetype": "text/x-python",
   "name": "python",
   "nbconvert_exporter": "python",
   "pygments_lexer": "ipython3",
   "version": "3.9.7"
  }
 },
 "nbformat": 4,
 "nbformat_minor": 5
}
