{
 "cells": [
  {
   "cell_type": "markdown",
   "id": "a4c93429",
   "metadata": {},
   "source": [
    "# ADVERTISING SALES PREDICTION."
   ]
  },
  {
   "cell_type": "code",
   "execution_count": 1,
   "id": "bd08b0e0",
   "metadata": {},
   "outputs": [],
   "source": [
    "import pandas as pd"
   ]
  },
  {
   "cell_type": "code",
   "execution_count": 2,
   "id": "29817571",
   "metadata": {},
   "outputs": [
    {
     "data": {
      "text/html": [
       "<div>\n",
       "<style scoped>\n",
       "    .dataframe tbody tr th:only-of-type {\n",
       "        vertical-align: middle;\n",
       "    }\n",
       "\n",
       "    .dataframe tbody tr th {\n",
       "        vertical-align: top;\n",
       "    }\n",
       "\n",
       "    .dataframe thead th {\n",
       "        text-align: right;\n",
       "    }\n",
       "</style>\n",
       "<table border=\"1\" class=\"dataframe\">\n",
       "  <thead>\n",
       "    <tr style=\"text-align: right;\">\n",
       "      <th></th>\n",
       "      <th>Unnamed: 0</th>\n",
       "      <th>TV</th>\n",
       "      <th>radio</th>\n",
       "      <th>newspaper</th>\n",
       "      <th>sales</th>\n",
       "    </tr>\n",
       "  </thead>\n",
       "  <tbody>\n",
       "    <tr>\n",
       "      <th>0</th>\n",
       "      <td>1</td>\n",
       "      <td>230.1</td>\n",
       "      <td>37.8</td>\n",
       "      <td>69.2</td>\n",
       "      <td>22.1</td>\n",
       "    </tr>\n",
       "    <tr>\n",
       "      <th>1</th>\n",
       "      <td>2</td>\n",
       "      <td>44.5</td>\n",
       "      <td>39.3</td>\n",
       "      <td>45.1</td>\n",
       "      <td>10.4</td>\n",
       "    </tr>\n",
       "    <tr>\n",
       "      <th>2</th>\n",
       "      <td>3</td>\n",
       "      <td>17.2</td>\n",
       "      <td>45.9</td>\n",
       "      <td>69.3</td>\n",
       "      <td>9.3</td>\n",
       "    </tr>\n",
       "    <tr>\n",
       "      <th>3</th>\n",
       "      <td>4</td>\n",
       "      <td>151.5</td>\n",
       "      <td>41.3</td>\n",
       "      <td>58.5</td>\n",
       "      <td>18.5</td>\n",
       "    </tr>\n",
       "    <tr>\n",
       "      <th>4</th>\n",
       "      <td>5</td>\n",
       "      <td>180.8</td>\n",
       "      <td>10.8</td>\n",
       "      <td>58.4</td>\n",
       "      <td>12.9</td>\n",
       "    </tr>\n",
       "    <tr>\n",
       "      <th>...</th>\n",
       "      <td>...</td>\n",
       "      <td>...</td>\n",
       "      <td>...</td>\n",
       "      <td>...</td>\n",
       "      <td>...</td>\n",
       "    </tr>\n",
       "    <tr>\n",
       "      <th>195</th>\n",
       "      <td>196</td>\n",
       "      <td>38.2</td>\n",
       "      <td>3.7</td>\n",
       "      <td>13.8</td>\n",
       "      <td>7.6</td>\n",
       "    </tr>\n",
       "    <tr>\n",
       "      <th>196</th>\n",
       "      <td>197</td>\n",
       "      <td>94.2</td>\n",
       "      <td>4.9</td>\n",
       "      <td>8.1</td>\n",
       "      <td>9.7</td>\n",
       "    </tr>\n",
       "    <tr>\n",
       "      <th>197</th>\n",
       "      <td>198</td>\n",
       "      <td>177.0</td>\n",
       "      <td>9.3</td>\n",
       "      <td>6.4</td>\n",
       "      <td>12.8</td>\n",
       "    </tr>\n",
       "    <tr>\n",
       "      <th>198</th>\n",
       "      <td>199</td>\n",
       "      <td>283.6</td>\n",
       "      <td>42.0</td>\n",
       "      <td>66.2</td>\n",
       "      <td>25.5</td>\n",
       "    </tr>\n",
       "    <tr>\n",
       "      <th>199</th>\n",
       "      <td>200</td>\n",
       "      <td>232.1</td>\n",
       "      <td>8.6</td>\n",
       "      <td>8.7</td>\n",
       "      <td>13.4</td>\n",
       "    </tr>\n",
       "  </tbody>\n",
       "</table>\n",
       "<p>200 rows × 5 columns</p>\n",
       "</div>"
      ],
      "text/plain": [
       "     Unnamed: 0     TV  radio  newspaper  sales\n",
       "0             1  230.1   37.8       69.2   22.1\n",
       "1             2   44.5   39.3       45.1   10.4\n",
       "2             3   17.2   45.9       69.3    9.3\n",
       "3             4  151.5   41.3       58.5   18.5\n",
       "4             5  180.8   10.8       58.4   12.9\n",
       "..          ...    ...    ...        ...    ...\n",
       "195         196   38.2    3.7       13.8    7.6\n",
       "196         197   94.2    4.9        8.1    9.7\n",
       "197         198  177.0    9.3        6.4   12.8\n",
       "198         199  283.6   42.0       66.2   25.5\n",
       "199         200  232.1    8.6        8.7   13.4\n",
       "\n",
       "[200 rows x 5 columns]"
      ]
     },
     "execution_count": 2,
     "metadata": {},
     "output_type": "execute_result"
    }
   ],
   "source": [
    "df=pd.read_csv('https://raw.githubusercontent.com/dsrscientist/DSData/master/Advertising.csv')\n",
    "df"
   ]
  },
  {
   "cell_type": "code",
   "execution_count": 3,
   "id": "df24b771",
   "metadata": {},
   "outputs": [
    {
     "data": {
      "text/plain": [
       "Unnamed: 0      int64\n",
       "TV            float64\n",
       "radio         float64\n",
       "newspaper     float64\n",
       "sales         float64\n",
       "dtype: object"
      ]
     },
     "execution_count": 3,
     "metadata": {},
     "output_type": "execute_result"
    }
   ],
   "source": [
    "df.dtypes"
   ]
  },
  {
   "cell_type": "code",
   "execution_count": 4,
   "id": "7025870b",
   "metadata": {},
   "outputs": [
    {
     "data": {
      "text/plain": [
       "(200, 5)"
      ]
     },
     "execution_count": 4,
     "metadata": {},
     "output_type": "execute_result"
    }
   ],
   "source": [
    "df.shape"
   ]
  },
  {
   "cell_type": "markdown",
   "id": "42106f5d",
   "metadata": {},
   "source": [
    "Dataset df have 200 rows and 5 columns including the target one."
   ]
  },
  {
   "cell_type": "code",
   "execution_count": 5,
   "id": "84c4dcda",
   "metadata": {},
   "outputs": [
    {
     "data": {
      "text/plain": [
       "Index(['Unnamed: 0', 'TV', 'radio', 'newspaper', 'sales'], dtype='object')"
      ]
     },
     "execution_count": 5,
     "metadata": {},
     "output_type": "execute_result"
    }
   ],
   "source": [
    "df.columns"
   ]
  },
  {
   "cell_type": "markdown",
   "id": "51d89601",
   "metadata": {},
   "source": [
    "Input variables:\n",
    "\n",
    "1 - Unnamed:0- This is the index for the rows.\n",
    "\n",
    "2 - TV- This is the percent of sales from tv.\n",
    "\n",
    "3 - RADIO- This is percent of sales from radio.\n",
    "\n",
    "4 - NEWSPAPER- This is percent of sales from newspaper.\n",
    "\n",
    "5 - SALES- percentage of sales from particular medium (target variable)."
   ]
  },
  {
   "cell_type": "markdown",
   "id": "b55d07a2",
   "metadata": {},
   "source": [
    "# checking duplicate values in the table"
   ]
  },
  {
   "cell_type": "code",
   "execution_count": 6,
   "id": "08e79f6f",
   "metadata": {},
   "outputs": [
    {
     "data": {
      "text/plain": [
       "0"
      ]
     },
     "execution_count": 6,
     "metadata": {},
     "output_type": "execute_result"
    }
   ],
   "source": [
    "df.duplicated().sum()"
   ]
  },
  {
   "cell_type": "markdown",
   "id": "b38ad358",
   "metadata": {},
   "source": [
    "there are total 0 duplicate values present in the table."
   ]
  },
  {
   "cell_type": "markdown",
   "id": "33f77b09",
   "metadata": {},
   "source": [
    "# Checking for the unique values."
   ]
  },
  {
   "cell_type": "code",
   "execution_count": 7,
   "id": "0ff88898",
   "metadata": {},
   "outputs": [
    {
     "data": {
      "text/plain": [
       "172"
      ]
     },
     "execution_count": 7,
     "metadata": {},
     "output_type": "execute_result"
    }
   ],
   "source": [
    "df['newspaper'].nunique()"
   ]
  },
  {
   "cell_type": "markdown",
   "id": "750890f8",
   "metadata": {},
   "source": [
    "there are 172 unique number of values present in this column."
   ]
  },
  {
   "cell_type": "code",
   "execution_count": 8,
   "id": "577df5e7",
   "metadata": {},
   "outputs": [
    {
     "data": {
      "text/plain": [
       "190"
      ]
     },
     "execution_count": 8,
     "metadata": {},
     "output_type": "execute_result"
    }
   ],
   "source": [
    "df['TV'].nunique()"
   ]
  },
  {
   "cell_type": "markdown",
   "id": "bbbfc7e8",
   "metadata": {},
   "source": [
    "there are 190 unique number of values present in this column."
   ]
  },
  {
   "cell_type": "code",
   "execution_count": 9,
   "id": "e87c5063",
   "metadata": {},
   "outputs": [
    {
     "data": {
      "text/plain": [
       "167"
      ]
     },
     "execution_count": 9,
     "metadata": {},
     "output_type": "execute_result"
    }
   ],
   "source": [
    "df['radio'].nunique()"
   ]
  },
  {
   "cell_type": "markdown",
   "id": "f80e05ad",
   "metadata": {},
   "source": [
    "there are 167 unique number of values present in this column."
   ]
  },
  {
   "cell_type": "code",
   "execution_count": 10,
   "id": "5d43aedb",
   "metadata": {},
   "outputs": [
    {
     "data": {
      "text/plain": [
       "121"
      ]
     },
     "execution_count": 10,
     "metadata": {},
     "output_type": "execute_result"
    }
   ],
   "source": [
    "df['sales'].nunique()"
   ]
  },
  {
   "cell_type": "markdown",
   "id": "9a27dcdb",
   "metadata": {},
   "source": [
    "there are 121 unique number of values present in this column."
   ]
  },
  {
   "cell_type": "code",
   "execution_count": 11,
   "id": "732758a1",
   "metadata": {},
   "outputs": [
    {
     "data": {
      "text/html": [
       "<div>\n",
       "<style scoped>\n",
       "    .dataframe tbody tr th:only-of-type {\n",
       "        vertical-align: middle;\n",
       "    }\n",
       "\n",
       "    .dataframe tbody tr th {\n",
       "        vertical-align: top;\n",
       "    }\n",
       "\n",
       "    .dataframe thead th {\n",
       "        text-align: right;\n",
       "    }\n",
       "</style>\n",
       "<table border=\"1\" class=\"dataframe\">\n",
       "  <thead>\n",
       "    <tr style=\"text-align: right;\">\n",
       "      <th></th>\n",
       "      <th>Unnamed: 0</th>\n",
       "      <th>TV</th>\n",
       "      <th>radio</th>\n",
       "      <th>newspaper</th>\n",
       "      <th>sales</th>\n",
       "    </tr>\n",
       "  </thead>\n",
       "  <tbody>\n",
       "    <tr>\n",
       "      <th>0</th>\n",
       "      <td>1</td>\n",
       "      <td>230.1</td>\n",
       "      <td>37.8</td>\n",
       "      <td>69.2</td>\n",
       "      <td>22.1</td>\n",
       "    </tr>\n",
       "    <tr>\n",
       "      <th>1</th>\n",
       "      <td>2</td>\n",
       "      <td>44.5</td>\n",
       "      <td>39.3</td>\n",
       "      <td>45.1</td>\n",
       "      <td>10.4</td>\n",
       "    </tr>\n",
       "    <tr>\n",
       "      <th>2</th>\n",
       "      <td>3</td>\n",
       "      <td>17.2</td>\n",
       "      <td>45.9</td>\n",
       "      <td>69.3</td>\n",
       "      <td>9.3</td>\n",
       "    </tr>\n",
       "    <tr>\n",
       "      <th>3</th>\n",
       "      <td>4</td>\n",
       "      <td>151.5</td>\n",
       "      <td>41.3</td>\n",
       "      <td>58.5</td>\n",
       "      <td>18.5</td>\n",
       "    </tr>\n",
       "    <tr>\n",
       "      <th>4</th>\n",
       "      <td>5</td>\n",
       "      <td>180.8</td>\n",
       "      <td>10.8</td>\n",
       "      <td>58.4</td>\n",
       "      <td>12.9</td>\n",
       "    </tr>\n",
       "  </tbody>\n",
       "</table>\n",
       "</div>"
      ],
      "text/plain": [
       "   Unnamed: 0     TV  radio  newspaper  sales\n",
       "0           1  230.1   37.8       69.2   22.1\n",
       "1           2   44.5   39.3       45.1   10.4\n",
       "2           3   17.2   45.9       69.3    9.3\n",
       "3           4  151.5   41.3       58.5   18.5\n",
       "4           5  180.8   10.8       58.4   12.9"
      ]
     },
     "execution_count": 11,
     "metadata": {},
     "output_type": "execute_result"
    }
   ],
   "source": [
    "df. head()"
   ]
  },
  {
   "cell_type": "code",
   "execution_count": 12,
   "id": "02c2ee2d",
   "metadata": {},
   "outputs": [
    {
     "data": {
      "text/html": [
       "<div>\n",
       "<style scoped>\n",
       "    .dataframe tbody tr th:only-of-type {\n",
       "        vertical-align: middle;\n",
       "    }\n",
       "\n",
       "    .dataframe tbody tr th {\n",
       "        vertical-align: top;\n",
       "    }\n",
       "\n",
       "    .dataframe thead th {\n",
       "        text-align: right;\n",
       "    }\n",
       "</style>\n",
       "<table border=\"1\" class=\"dataframe\">\n",
       "  <thead>\n",
       "    <tr style=\"text-align: right;\">\n",
       "      <th></th>\n",
       "      <th>Unnamed: 0</th>\n",
       "      <th>TV</th>\n",
       "      <th>radio</th>\n",
       "      <th>newspaper</th>\n",
       "      <th>sales</th>\n",
       "    </tr>\n",
       "  </thead>\n",
       "  <tbody>\n",
       "    <tr>\n",
       "      <th>195</th>\n",
       "      <td>196</td>\n",
       "      <td>38.2</td>\n",
       "      <td>3.7</td>\n",
       "      <td>13.8</td>\n",
       "      <td>7.6</td>\n",
       "    </tr>\n",
       "    <tr>\n",
       "      <th>196</th>\n",
       "      <td>197</td>\n",
       "      <td>94.2</td>\n",
       "      <td>4.9</td>\n",
       "      <td>8.1</td>\n",
       "      <td>9.7</td>\n",
       "    </tr>\n",
       "    <tr>\n",
       "      <th>197</th>\n",
       "      <td>198</td>\n",
       "      <td>177.0</td>\n",
       "      <td>9.3</td>\n",
       "      <td>6.4</td>\n",
       "      <td>12.8</td>\n",
       "    </tr>\n",
       "    <tr>\n",
       "      <th>198</th>\n",
       "      <td>199</td>\n",
       "      <td>283.6</td>\n",
       "      <td>42.0</td>\n",
       "      <td>66.2</td>\n",
       "      <td>25.5</td>\n",
       "    </tr>\n",
       "    <tr>\n",
       "      <th>199</th>\n",
       "      <td>200</td>\n",
       "      <td>232.1</td>\n",
       "      <td>8.6</td>\n",
       "      <td>8.7</td>\n",
       "      <td>13.4</td>\n",
       "    </tr>\n",
       "  </tbody>\n",
       "</table>\n",
       "</div>"
      ],
      "text/plain": [
       "     Unnamed: 0     TV  radio  newspaper  sales\n",
       "195         196   38.2    3.7       13.8    7.6\n",
       "196         197   94.2    4.9        8.1    9.7\n",
       "197         198  177.0    9.3        6.4   12.8\n",
       "198         199  283.6   42.0       66.2   25.5\n",
       "199         200  232.1    8.6        8.7   13.4"
      ]
     },
     "execution_count": 12,
     "metadata": {},
     "output_type": "execute_result"
    }
   ],
   "source": [
    "df.tail()"
   ]
  },
  {
   "cell_type": "code",
   "execution_count": 13,
   "id": "d5962fe7",
   "metadata": {},
   "outputs": [
    {
     "data": {
      "text/html": [
       "<div>\n",
       "<style scoped>\n",
       "    .dataframe tbody tr th:only-of-type {\n",
       "        vertical-align: middle;\n",
       "    }\n",
       "\n",
       "    .dataframe tbody tr th {\n",
       "        vertical-align: top;\n",
       "    }\n",
       "\n",
       "    .dataframe thead th {\n",
       "        text-align: right;\n",
       "    }\n",
       "</style>\n",
       "<table border=\"1\" class=\"dataframe\">\n",
       "  <thead>\n",
       "    <tr style=\"text-align: right;\">\n",
       "      <th></th>\n",
       "      <th>Unnamed: 0</th>\n",
       "      <th>TV</th>\n",
       "      <th>radio</th>\n",
       "      <th>newspaper</th>\n",
       "      <th>sales</th>\n",
       "    </tr>\n",
       "  </thead>\n",
       "  <tbody>\n",
       "    <tr>\n",
       "      <th>179</th>\n",
       "      <td>180</td>\n",
       "      <td>165.6</td>\n",
       "      <td>10.0</td>\n",
       "      <td>17.6</td>\n",
       "      <td>12.6</td>\n",
       "    </tr>\n",
       "  </tbody>\n",
       "</table>\n",
       "</div>"
      ],
      "text/plain": [
       "     Unnamed: 0     TV  radio  newspaper  sales\n",
       "179         180  165.6   10.0       17.6   12.6"
      ]
     },
     "execution_count": 13,
     "metadata": {},
     "output_type": "execute_result"
    }
   ],
   "source": [
    "df.sample()"
   ]
  },
  {
   "cell_type": "markdown",
   "id": "11ddcd84",
   "metadata": {},
   "source": [
    "# Checking for the Null Values"
   ]
  },
  {
   "cell_type": "code",
   "execution_count": 14,
   "id": "54e5aef7",
   "metadata": {},
   "outputs": [],
   "source": [
    "import matplotlib.pyplot as plt\n",
    "import seaborn as sns\n",
    "import warnings\n",
    "warnings.filterwarnings('ignore')"
   ]
  },
  {
   "cell_type": "code",
   "execution_count": 15,
   "id": "d252d355",
   "metadata": {},
   "outputs": [
    {
     "data": {
      "text/plain": [
       "Text(0.5, 1.0, 'null values')"
      ]
     },
     "execution_count": 15,
     "metadata": {},
     "output_type": "execute_result"
    },
    {
     "data": {
      "image/png": "[encoded data removed]",
      "text/plain": [
       "<Figure size 432x288 with 2 Axes>"
      ]
     },
     "metadata": {
      "needs_background": "light"
     },
     "output_type": "display_data"
    }
   ],
   "source": [
    "sns.heatmap(df.isnull())\n",
    "plt.title('null values')"
   ]
  },
  {
   "cell_type": "markdown",
   "id": "a41ae758",
   "metadata": {},
   "source": [
    "since we can see in the heatmap we don't have any null values present in the data."
   ]
  },
  {
   "cell_type": "code",
   "execution_count": 16,
   "id": "d1c700cc",
   "metadata": {},
   "outputs": [
    {
     "data": {
      "text/plain": [
       "Unnamed: 0    0\n",
       "TV            0\n",
       "radio         0\n",
       "newspaper     0\n",
       "sales         0\n",
       "dtype: int64"
      ]
     },
     "execution_count": 16,
     "metadata": {},
     "output_type": "execute_result"
    }
   ],
   "source": [
    "df.isnull().sum()"
   ]
  },
  {
   "cell_type": "markdown",
   "id": "f7529a8c",
   "metadata": {},
   "source": [
    "Since there are no null values present in the data set so, there is no need to do imputation of null values."
   ]
  },
  {
   "cell_type": "markdown",
   "id": "612f1771",
   "metadata": {},
   "source": [
    "# EDA"
   ]
  },
  {
   "cell_type": "markdown",
   "id": "8d83b99c",
   "metadata": {},
   "source": [
    "# Visualization Of The Data"
   ]
  },
  {
   "cell_type": "markdown",
   "id": "bbd59b44",
   "metadata": {},
   "source": [
    "# 1"
   ]
  },
  {
   "cell_type": "code",
   "execution_count": 17,
   "id": "ed4cc018",
   "metadata": {},
   "outputs": [
    {
     "data": {
      "text/plain": [
       "<function matplotlib.pyplot.show(close=None, block=None)>"
      ]
     },
     "execution_count": 17,
     "metadata": {},
     "output_type": "execute_result"
    },
    {
     "data": {
      "image/png": "[encoded data removed]",
      "text/plain": [
       "<Figure size 900x900 with 30 Axes>"
      ]
     },
     "metadata": {
      "needs_background": "light"
     },
     "output_type": "display_data"
    }
   ],
   "source": [
    "import matplotlib.pyplot as plt\n",
    "import seaborn as sns\n",
    "import warnings\n",
    "warnings.filterwarnings('ignore')\n",
    "sns.pairplot(df)\n",
    "plt.show"
   ]
  },
  {
   "cell_type": "markdown",
   "id": "c9bfea41",
   "metadata": {},
   "source": [
    "# 2"
   ]
  },
  {
   "cell_type": "code",
   "execution_count": 18,
   "id": "432b2359",
   "metadata": {},
   "outputs": [
    {
     "data": {
      "text/plain": [
       "array([[<AxesSubplot:title={'center':'Unnamed: 0'}>,\n",
       "        <AxesSubplot:title={'center':'TV'}>],\n",
       "       [<AxesSubplot:title={'center':'radio'}>,\n",
       "        <AxesSubplot:title={'center':'newspaper'}>],\n",
       "       [<AxesSubplot:title={'center':'sales'}>, <AxesSubplot:>]],\n",
       "      dtype=object)"
      ]
     },
     "execution_count": 18,
     "metadata": {},
     "output_type": "execute_result"
    },
    {
     "data": {
      "image/png": "[encoded data removed]",
      "text/plain": [
       "<Figure size 720x720 with 6 Axes>"
      ]
     },
     "metadata": {
      "needs_background": "light"
     },
     "output_type": "display_data"
    }
   ],
   "source": [
    "df.hist(bins=10,figsize=(10,10))"
   ]
  },
  {
   "cell_type": "markdown",
   "id": "3d8c26f1",
   "metadata": {},
   "source": [
    "# 3"
   ]
  },
  {
   "cell_type": "code",
   "execution_count": 19,
   "id": "7ba9cadf",
   "metadata": {},
   "outputs": [
    {
     "data": {
      "text/plain": [
       "<AxesSubplot:xlabel='TV', ylabel='sales'>"
      ]
     },
     "execution_count": 19,
     "metadata": {},
     "output_type": "execute_result"
    },
    {
     "data": {
      "image/png": "[encoded data removed]",
      "text/plain": [
       "<Figure size 432x288 with 1 Axes>"
      ]
     },
     "metadata": {
      "needs_background": "light"
     },
     "output_type": "display_data"
    }
   ],
   "source": [
    "sns.scatterplot(x='TV',y='sales',data=df)\n",
    "\n"
   ]
  },
  {
   "cell_type": "code",
   "execution_count": 20,
   "id": "f488e0bb",
   "metadata": {},
   "outputs": [
    {
     "data": {
      "text/plain": [
       "<AxesSubplot:xlabel='newspaper', ylabel='sales'>"
      ]
     },
     "execution_count": 20,
     "metadata": {},
     "output_type": "execute_result"
    },
    {
     "data": {
      "image/png": "[encoded data removed]",
      "text/plain": [
       "<Figure size 432x288 with 1 Axes>"
      ]
     },
     "metadata": {
      "needs_background": "light"
     },
     "output_type": "display_data"
    }
   ],
   "source": [
    "sns.scatterplot(x='newspaper',y='sales',data=df)"
   ]
  },
  {
   "cell_type": "code",
   "execution_count": 21,
   "id": "d1ef3878",
   "metadata": {},
   "outputs": [
    {
     "data": {
      "text/plain": [
       "<AxesSubplot:xlabel='radio', ylabel='sales'>"
      ]
     },
     "execution_count": 21,
     "metadata": {},
     "output_type": "execute_result"
    },
    {
     "data": {
      "image/png": "[encoded data removed]",
      "text/plain": [
       "<Figure size 432x288 with 1 Axes>"
      ]
     },
     "metadata": {
      "needs_background": "light"
     },
     "output_type": "display_data"
    }
   ],
   "source": [
    "sns.scatterplot(x='radio',y='sales',data=df)"
   ]
  },
  {
   "cell_type": "markdown",
   "id": "694976b3",
   "metadata": {},
   "source": [
    "# 4- Barplot"
   ]
  },
  {
   "cell_type": "code",
   "execution_count": 99,
   "id": "b83fb213",
   "metadata": {},
   "outputs": [
    {
     "data": {
      "text/plain": [
       "<AxesSubplot:xlabel='radio', ylabel='sales'>"
      ]
     },
     "execution_count": 99,
     "metadata": {},
     "output_type": "execute_result"
    },
    {
     "data": {
      "image/png": "[encoded data removed]",
      "text/plain": [
       "<Figure size 432x288 with 1 Axes>"
      ]
     },
     "metadata": {
      "needs_background": "light"
     },
     "output_type": "display_data"
    }
   ],
   "source": [
    "sns.barplot(x='radio',y='sales',data=df)"
   ]
  },
  {
   "cell_type": "code",
   "execution_count": 100,
   "id": "63e8af32",
   "metadata": {},
   "outputs": [
    {
     "data": {
      "text/plain": [
       "<AxesSubplot:xlabel='TV', ylabel='sales'>"
      ]
     },
     "execution_count": 100,
     "metadata": {},
     "output_type": "execute_result"
    },
    {
     "data": {
      "image/png": "[encoded data removed]",
      "text/plain": [
       "<Figure size 432x288 with 1 Axes>"
      ]
     },
     "metadata": {
      "needs_background": "light"
     },
     "output_type": "display_data"
    }
   ],
   "source": [
    "sns.barplot(x='TV',y='sales',data=df)"
   ]
  },
  {
   "cell_type": "code",
   "execution_count": 102,
   "id": "787edbd0",
   "metadata": {},
   "outputs": [
    {
     "data": {
      "text/plain": [
       "<AxesSubplot:xlabel='newspaper', ylabel='sales'>"
      ]
     },
     "execution_count": 102,
     "metadata": {},
     "output_type": "execute_result"
    },
    {
     "data": {
      "image/png": "[encoded data removed]",
      "text/plain": [
       "<Figure size 432x288 with 1 Axes>"
      ]
     },
     "metadata": {
      "needs_background": "light"
     },
     "output_type": "display_data"
    }
   ],
   "source": [
    "sns.barplot(x='newspaper',y='sales',data=df)"
   ]
  },
  {
   "cell_type": "markdown",
   "id": "89faf8ef",
   "metadata": {},
   "source": [
    "# 5- Displot"
   ]
  },
  {
   "cell_type": "code",
   "execution_count": 98,
   "id": "4ab20db9",
   "metadata": {},
   "outputs": [
    {
     "data": {
      "image/png": "[encoded data removed]",
      "text/plain": [
       "<Figure size 360x360 with 1 Axes>"
      ]
     },
     "metadata": {
      "needs_background": "light"
     },
     "output_type": "display_data"
    }
   ],
   "source": [
    "sns.displot(df['sales'])\n",
    "plt.show()"
   ]
  },
  {
   "cell_type": "code",
   "execution_count": 105,
   "id": "ad0dd280",
   "metadata": {},
   "outputs": [
    {
     "data": {
      "image/png": "[encoded data removed]",
      "text/plain": [
       "<Figure size 360x360 with 1 Axes>"
      ]
     },
     "metadata": {
      "needs_background": "light"
     },
     "output_type": "display_data"
    }
   ],
   "source": [
    "sns.displot(df['radio'])\n",
    "plt.show()"
   ]
  },
  {
   "cell_type": "code",
   "execution_count": 106,
   "id": "f1babee5",
   "metadata": {},
   "outputs": [
    {
     "data": {
      "image/png": "[encoded data removed]",
      "text/plain": [
       "<Figure size 360x360 with 1 Axes>"
      ]
     },
     "metadata": {
      "needs_background": "light"
     },
     "output_type": "display_data"
    }
   ],
   "source": [
    "sns.displot(df['TV'])\n",
    "plt.show()"
   ]
  },
  {
   "cell_type": "code",
   "execution_count": 107,
   "id": "18f3103e",
   "metadata": {},
   "outputs": [
    {
     "data": {
      "image/png": "[encoded data removed]",
      "text/plain": [
       "<Figure size 360x360 with 1 Axes>"
      ]
     },
     "metadata": {
      "needs_background": "light"
     },
     "output_type": "display_data"
    }
   ],
   "source": [
    "sns.displot(df['newspaper'])\n",
    "plt.show()"
   ]
  },
  {
   "cell_type": "code",
   "execution_count": null,
   "id": "33b8b52e",
   "metadata": {},
   "outputs": [],
   "source": []
  },
  {
   "cell_type": "markdown",
   "id": "a8bae2f6",
   "metadata": {},
   "source": [
    "# Checking the distribution of continuous value of the float data type columns."
   ]
  },
  {
   "cell_type": "code",
   "execution_count": 23,
   "id": "2cb5961d",
   "metadata": {},
   "outputs": [
    {
     "data": {
      "text/plain": [
       "<seaborn.axisgrid.FacetGrid at 0x207a19e1ee0>"
      ]
     },
     "execution_count": 23,
     "metadata": {},
     "output_type": "execute_result"
    },
    {
     "data": {
      "image/png": "[encoded data removed]",
      "text/plain": [
       "<Figure size 360x360 with 1 Axes>"
      ]
     },
     "metadata": {
      "needs_background": "light"
     },
     "output_type": "display_data"
    }
   ],
   "source": [
    "sns.displot(df['sales'],kde=True)"
   ]
  },
  {
   "cell_type": "code",
   "execution_count": null,
   "id": "b821c45f",
   "metadata": {},
   "outputs": [],
   "source": []
  },
  {
   "cell_type": "markdown",
   "id": "7034e833",
   "metadata": {},
   "source": [
    "# Describing the Data"
   ]
  },
  {
   "cell_type": "code",
   "execution_count": 24,
   "id": "10d99363",
   "metadata": {},
   "outputs": [
    {
     "data": {
      "text/html": [
       "<div>\n",
       "<style scoped>\n",
       "    .dataframe tbody tr th:only-of-type {\n",
       "        vertical-align: middle;\n",
       "    }\n",
       "\n",
       "    .dataframe tbody tr th {\n",
       "        vertical-align: top;\n",
       "    }\n",
       "\n",
       "    .dataframe thead th {\n",
       "        text-align: right;\n",
       "    }\n",
       "</style>\n",
       "<table border=\"1\" class=\"dataframe\">\n",
       "  <thead>\n",
       "    <tr style=\"text-align: right;\">\n",
       "      <th></th>\n",
       "      <th>Unnamed: 0</th>\n",
       "      <th>TV</th>\n",
       "      <th>radio</th>\n",
       "      <th>newspaper</th>\n",
       "      <th>sales</th>\n",
       "    </tr>\n",
       "  </thead>\n",
       "  <tbody>\n",
       "    <tr>\n",
       "      <th>count</th>\n",
       "      <td>200.000000</td>\n",
       "      <td>200.000000</td>\n",
       "      <td>200.000000</td>\n",
       "      <td>200.000000</td>\n",
       "      <td>200.000000</td>\n",
       "    </tr>\n",
       "    <tr>\n",
       "      <th>mean</th>\n",
       "      <td>100.500000</td>\n",
       "      <td>147.042500</td>\n",
       "      <td>23.264000</td>\n",
       "      <td>30.554000</td>\n",
       "      <td>14.022500</td>\n",
       "    </tr>\n",
       "    <tr>\n",
       "      <th>std</th>\n",
       "      <td>57.879185</td>\n",
       "      <td>85.854236</td>\n",
       "      <td>14.846809</td>\n",
       "      <td>21.778621</td>\n",
       "      <td>5.217457</td>\n",
       "    </tr>\n",
       "    <tr>\n",
       "      <th>min</th>\n",
       "      <td>1.000000</td>\n",
       "      <td>0.700000</td>\n",
       "      <td>0.000000</td>\n",
       "      <td>0.300000</td>\n",
       "      <td>1.600000</td>\n",
       "    </tr>\n",
       "    <tr>\n",
       "      <th>25%</th>\n",
       "      <td>50.750000</td>\n",
       "      <td>74.375000</td>\n",
       "      <td>9.975000</td>\n",
       "      <td>12.750000</td>\n",
       "      <td>10.375000</td>\n",
       "    </tr>\n",
       "    <tr>\n",
       "      <th>50%</th>\n",
       "      <td>100.500000</td>\n",
       "      <td>149.750000</td>\n",
       "      <td>22.900000</td>\n",
       "      <td>25.750000</td>\n",
       "      <td>12.900000</td>\n",
       "    </tr>\n",
       "    <tr>\n",
       "      <th>75%</th>\n",
       "      <td>150.250000</td>\n",
       "      <td>218.825000</td>\n",
       "      <td>36.525000</td>\n",
       "      <td>45.100000</td>\n",
       "      <td>17.400000</td>\n",
       "    </tr>\n",
       "    <tr>\n",
       "      <th>max</th>\n",
       "      <td>200.000000</td>\n",
       "      <td>296.400000</td>\n",
       "      <td>49.600000</td>\n",
       "      <td>114.000000</td>\n",
       "      <td>27.000000</td>\n",
       "    </tr>\n",
       "  </tbody>\n",
       "</table>\n",
       "</div>"
      ],
      "text/plain": [
       "       Unnamed: 0          TV       radio   newspaper       sales\n",
       "count  200.000000  200.000000  200.000000  200.000000  200.000000\n",
       "mean   100.500000  147.042500   23.264000   30.554000   14.022500\n",
       "std     57.879185   85.854236   14.846809   21.778621    5.217457\n",
       "min      1.000000    0.700000    0.000000    0.300000    1.600000\n",
       "25%     50.750000   74.375000    9.975000   12.750000   10.375000\n",
       "50%    100.500000  149.750000   22.900000   25.750000   12.900000\n",
       "75%    150.250000  218.825000   36.525000   45.100000   17.400000\n",
       "max    200.000000  296.400000   49.600000  114.000000   27.000000"
      ]
     },
     "execution_count": 24,
     "metadata": {},
     "output_type": "execute_result"
    }
   ],
   "source": [
    "df.describe()"
   ]
  },
  {
   "cell_type": "code",
   "execution_count": 25,
   "id": "ad9d8e0c",
   "metadata": {},
   "outputs": [
    {
     "data": {
      "text/plain": [
       "<AxesSubplot:>"
      ]
     },
     "execution_count": 25,
     "metadata": {},
     "output_type": "execute_result"
    },
    {
     "data": {
      "image/png": "[encoded data removed]",
      "text/plain": [
       "<Figure size 864x720 with 2 Axes>"
      ]
     },
     "metadata": {
      "needs_background": "light"
     },
     "output_type": "display_data"
    }
   ],
   "source": [
    "import matplotlib.pyplot as plt\n",
    "plt.figure(figsize=(12,10))\n",
    "sns.heatmap(df.describe(),annot=True,linewidths=2,linecolor='Black',fmt='.2f')"
   ]
  },
  {
   "cell_type": "markdown",
   "id": "3bba2591",
   "metadata": {},
   "source": [
    "# Checking correlation of columns with the target variable."
   ]
  },
  {
   "cell_type": "code",
   "execution_count": 26,
   "id": "4ed91a22",
   "metadata": {},
   "outputs": [
    {
     "data": {
      "text/plain": [
       "<bound method DataFrame.corr of      Unnamed: 0     TV  radio  newspaper  sales\n",
       "0             1  230.1   37.8       69.2   22.1\n",
       "1             2   44.5   39.3       45.1   10.4\n",
       "2             3   17.2   45.9       69.3    9.3\n",
       "3             4  151.5   41.3       58.5   18.5\n",
       "4             5  180.8   10.8       58.4   12.9\n",
       "..          ...    ...    ...        ...    ...\n",
       "195         196   38.2    3.7       13.8    7.6\n",
       "196         197   94.2    4.9        8.1    9.7\n",
       "197         198  177.0    9.3        6.4   12.8\n",
       "198         199  283.6   42.0       66.2   25.5\n",
       "199         200  232.1    8.6        8.7   13.4\n",
       "\n",
       "[200 rows x 5 columns]>"
      ]
     },
     "execution_count": 26,
     "metadata": {},
     "output_type": "execute_result"
    }
   ],
   "source": [
    "df.corr"
   ]
  },
  {
   "cell_type": "code",
   "execution_count": 27,
   "id": "5852b80d",
   "metadata": {},
   "outputs": [
    {
     "data": {
      "text/plain": [
       "Unnamed: 0   -0.051616\n",
       "newspaper     0.228299\n",
       "radio         0.576223\n",
       "TV            0.782224\n",
       "sales         1.000000\n",
       "Name: sales, dtype: float64"
      ]
     },
     "execution_count": 27,
     "metadata": {},
     "output_type": "execute_result"
    }
   ],
   "source": [
    "df.corr()['sales'].sort_values()"
   ]
  },
  {
   "cell_type": "code",
   "execution_count": 28,
   "id": "9947ccc5",
   "metadata": {},
   "outputs": [
    {
     "data": {
      "text/plain": [
       "<AxesSubplot:>"
      ]
     },
     "execution_count": 28,
     "metadata": {},
     "output_type": "execute_result"
    },
    {
     "data": {
      "image/png": "[encoded data removed]",
      "text/plain": [
       "<Figure size 864x720 with 2 Axes>"
      ]
     },
     "metadata": {
      "needs_background": "light"
     },
     "output_type": "display_data"
    }
   ],
   "source": [
    "import matplotlib.pyplot as plt\n",
    "plt.figure(figsize=(12,10))\n",
    "sns.heatmap(df.corr(),annot=True,linewidths=2,linecolor='Black',fmt='.2f')"
   ]
  },
  {
   "cell_type": "markdown",
   "id": "c71f5a0e",
   "metadata": {},
   "source": [
    "TV- It is highly correlated with sales. \n",
    "\n",
    "NEWSPAPER- After both tv and radio it is the column that is okay in correlation with the sales but not good as compared to the \n",
    "both tv and radio.\n",
    "\n",
    "RADIO- It is the second column after tv that is good in correlation with the sales.\n",
    "\n",
    "UNNAMED-it is the least correlated column."
   ]
  },
  {
   "cell_type": "markdown",
   "id": "48f2e189",
   "metadata": {},
   "source": [
    "# checking the columns which are positively and negatively correlated to the target variable."
   ]
  },
  {
   "cell_type": "code",
   "execution_count": 29,
   "id": "cae85bbe",
   "metadata": {},
   "outputs": [
    {
     "data": {
      "image/png": "[encoded data removed]",
      "text/plain": [
       "<Figure size 864x720 with 1 Axes>"
      ]
     },
     "metadata": {
      "needs_background": "light"
     },
     "output_type": "display_data"
    }
   ],
   "source": [
    "plt.figure(figsize=(12,10))\n",
    "df.corr()['sales'].sort_values(ascending=False).drop(['sales']).plot(kind='bar',color='g')\n",
    "plt.xlabel('features',fontsize=12)\n",
    "plt.ylabel('column with target names',fontsize=12)\n",
    "plt.show()"
   ]
  },
  {
   "cell_type": "markdown",
   "id": "2e318771",
   "metadata": {},
   "source": [
    "# Outliers Checking"
   ]
  },
  {
   "cell_type": "code",
   "execution_count": 30,
   "id": "83da6df8",
   "metadata": {},
   "outputs": [],
   "source": [
    "import warnings\n",
    "warnings.filterwarnings('ignore')"
   ]
  },
  {
   "cell_type": "code",
   "execution_count": 31,
   "id": "a3e7502b",
   "metadata": {},
   "outputs": [],
   "source": [
    "collist=df.columns.values\n",
    "ncol=30\n",
    "nrow=14"
   ]
  },
  {
   "cell_type": "code",
   "execution_count": 32,
   "id": "b38cb667",
   "metadata": {},
   "outputs": [
    {
     "data": {
      "text/plain": [
       "array(['Unnamed: 0', 'TV', 'radio', 'newspaper', 'sales'], dtype=object)"
      ]
     },
     "execution_count": 32,
     "metadata": {},
     "output_type": "execute_result"
    }
   ],
   "source": [
    "collist"
   ]
  },
  {
   "cell_type": "code",
   "execution_count": 33,
   "id": "8a844b77",
   "metadata": {},
   "outputs": [
    {
     "name": "stdout",
     "output_type": "stream",
     "text": [
      "Unnamed: 0\n"
     ]
    }
   ],
   "source": [
    "for i in range(0,len(collist)):\n",
    "    print(collist[i])\n",
    "    break"
   ]
  },
  {
   "cell_type": "code",
   "execution_count": 34,
   "id": "902dc94f",
   "metadata": {},
   "outputs": [
    {
     "data": {
      "image/png": "[encoded data removed]",
      "text/plain": [
       "<Figure size 2160x6480 with 5 Axes>"
      ]
     },
     "metadata": {
      "needs_background": "light"
     },
     "output_type": "display_data"
    }
   ],
   "source": [
    "plt.figure(figsize=(ncol,3*ncol))\n",
    "for i in range(0,len(collist)):\n",
    "    plt.subplot(nrow,ncol,i+1)\n",
    "    sns.boxplot(data = df[collist[i]],color='red',orient='v')\n",
    "    plt.tight_layout()"
   ]
  },
  {
   "cell_type": "code",
   "execution_count": 35,
   "id": "24d4d383",
   "metadata": {},
   "outputs": [],
   "source": [
    "from scipy.stats import zscore\n",
    "import numpy as np"
   ]
  },
  {
   "cell_type": "code",
   "execution_count": 36,
   "id": "d4057059",
   "metadata": {},
   "outputs": [
    {
     "data": {
      "text/plain": [
       "False"
      ]
     },
     "execution_count": 36,
     "metadata": {},
     "output_type": "execute_result"
    }
   ],
   "source": [
    "(np.abs(zscore(df))<3).all().all()"
   ]
  },
  {
   "cell_type": "markdown",
   "id": "ba53e51c",
   "metadata": {},
   "source": [
    "As the result is false so there are outliers present in the data set which will be treated at later stages."
   ]
  },
  {
   "cell_type": "markdown",
   "id": "22f58a2d",
   "metadata": {},
   "source": [
    "# Processing the Data"
   ]
  },
  {
   "cell_type": "markdown",
   "id": "633acf02",
   "metadata": {},
   "source": [
    "# Removing Outliers"
   ]
  },
  {
   "cell_type": "code",
   "execution_count": 37,
   "id": "24b7791b",
   "metadata": {},
   "outputs": [],
   "source": [
    "from scipy.stats import zscore\n",
    "import numpy as np"
   ]
  },
  {
   "cell_type": "code",
   "execution_count": 38,
   "id": "a1f78e9d",
   "metadata": {},
   "outputs": [
    {
     "data": {
      "text/plain": [
       "False"
      ]
     },
     "execution_count": 38,
     "metadata": {},
     "output_type": "execute_result"
    }
   ],
   "source": [
    "(np.abs(zscore(df))<3).all().all()"
   ]
  },
  {
   "cell_type": "markdown",
   "id": "9f87a1c2",
   "metadata": {},
   "source": [
    "zscore Technique"
   ]
  },
  {
   "cell_type": "code",
   "execution_count": 39,
   "id": "29fbdc8a",
   "metadata": {},
   "outputs": [
    {
     "data": {
      "text/plain": [
       "(array([ 16, 101], dtype=int64), array([3, 3], dtype=int64))"
      ]
     },
     "execution_count": 39,
     "metadata": {},
     "output_type": "execute_result"
    }
   ],
   "source": [
    "z=np.abs(zscore(df))\n",
    "threshold=3\n",
    "np.where(z>3)"
   ]
  },
  {
   "cell_type": "code",
   "execution_count": 40,
   "id": "679e57fb",
   "metadata": {},
   "outputs": [],
   "source": [
    "df_new=df[(z<3).all(axis=1)]"
   ]
  },
  {
   "cell_type": "code",
   "execution_count": 41,
   "id": "5f58a686",
   "metadata": {},
   "outputs": [
    {
     "data": {
      "text/html": [
       "<div>\n",
       "<style scoped>\n",
       "    .dataframe tbody tr th:only-of-type {\n",
       "        vertical-align: middle;\n",
       "    }\n",
       "\n",
       "    .dataframe tbody tr th {\n",
       "        vertical-align: top;\n",
       "    }\n",
       "\n",
       "    .dataframe thead th {\n",
       "        text-align: right;\n",
       "    }\n",
       "</style>\n",
       "<table border=\"1\" class=\"dataframe\">\n",
       "  <thead>\n",
       "    <tr style=\"text-align: right;\">\n",
       "      <th></th>\n",
       "      <th>Unnamed: 0</th>\n",
       "      <th>TV</th>\n",
       "      <th>radio</th>\n",
       "      <th>newspaper</th>\n",
       "      <th>sales</th>\n",
       "    </tr>\n",
       "  </thead>\n",
       "  <tbody>\n",
       "    <tr>\n",
       "      <th>0</th>\n",
       "      <td>1</td>\n",
       "      <td>230.1</td>\n",
       "      <td>37.8</td>\n",
       "      <td>69.2</td>\n",
       "      <td>22.1</td>\n",
       "    </tr>\n",
       "    <tr>\n",
       "      <th>1</th>\n",
       "      <td>2</td>\n",
       "      <td>44.5</td>\n",
       "      <td>39.3</td>\n",
       "      <td>45.1</td>\n",
       "      <td>10.4</td>\n",
       "    </tr>\n",
       "    <tr>\n",
       "      <th>2</th>\n",
       "      <td>3</td>\n",
       "      <td>17.2</td>\n",
       "      <td>45.9</td>\n",
       "      <td>69.3</td>\n",
       "      <td>9.3</td>\n",
       "    </tr>\n",
       "    <tr>\n",
       "      <th>3</th>\n",
       "      <td>4</td>\n",
       "      <td>151.5</td>\n",
       "      <td>41.3</td>\n",
       "      <td>58.5</td>\n",
       "      <td>18.5</td>\n",
       "    </tr>\n",
       "    <tr>\n",
       "      <th>4</th>\n",
       "      <td>5</td>\n",
       "      <td>180.8</td>\n",
       "      <td>10.8</td>\n",
       "      <td>58.4</td>\n",
       "      <td>12.9</td>\n",
       "    </tr>\n",
       "    <tr>\n",
       "      <th>...</th>\n",
       "      <td>...</td>\n",
       "      <td>...</td>\n",
       "      <td>...</td>\n",
       "      <td>...</td>\n",
       "      <td>...</td>\n",
       "    </tr>\n",
       "    <tr>\n",
       "      <th>195</th>\n",
       "      <td>196</td>\n",
       "      <td>38.2</td>\n",
       "      <td>3.7</td>\n",
       "      <td>13.8</td>\n",
       "      <td>7.6</td>\n",
       "    </tr>\n",
       "    <tr>\n",
       "      <th>196</th>\n",
       "      <td>197</td>\n",
       "      <td>94.2</td>\n",
       "      <td>4.9</td>\n",
       "      <td>8.1</td>\n",
       "      <td>9.7</td>\n",
       "    </tr>\n",
       "    <tr>\n",
       "      <th>197</th>\n",
       "      <td>198</td>\n",
       "      <td>177.0</td>\n",
       "      <td>9.3</td>\n",
       "      <td>6.4</td>\n",
       "      <td>12.8</td>\n",
       "    </tr>\n",
       "    <tr>\n",
       "      <th>198</th>\n",
       "      <td>199</td>\n",
       "      <td>283.6</td>\n",
       "      <td>42.0</td>\n",
       "      <td>66.2</td>\n",
       "      <td>25.5</td>\n",
       "    </tr>\n",
       "    <tr>\n",
       "      <th>199</th>\n",
       "      <td>200</td>\n",
       "      <td>232.1</td>\n",
       "      <td>8.6</td>\n",
       "      <td>8.7</td>\n",
       "      <td>13.4</td>\n",
       "    </tr>\n",
       "  </tbody>\n",
       "</table>\n",
       "<p>198 rows × 5 columns</p>\n",
       "</div>"
      ],
      "text/plain": [
       "     Unnamed: 0     TV  radio  newspaper  sales\n",
       "0             1  230.1   37.8       69.2   22.1\n",
       "1             2   44.5   39.3       45.1   10.4\n",
       "2             3   17.2   45.9       69.3    9.3\n",
       "3             4  151.5   41.3       58.5   18.5\n",
       "4             5  180.8   10.8       58.4   12.9\n",
       "..          ...    ...    ...        ...    ...\n",
       "195         196   38.2    3.7       13.8    7.6\n",
       "196         197   94.2    4.9        8.1    9.7\n",
       "197         198  177.0    9.3        6.4   12.8\n",
       "198         199  283.6   42.0       66.2   25.5\n",
       "199         200  232.1    8.6        8.7   13.4\n",
       "\n",
       "[198 rows x 5 columns]"
      ]
     },
     "execution_count": 41,
     "metadata": {},
     "output_type": "execute_result"
    }
   ],
   "source": [
    "df_new"
   ]
  },
  {
   "cell_type": "code",
   "execution_count": 42,
   "id": "9a36b212",
   "metadata": {},
   "outputs": [
    {
     "data": {
      "text/plain": [
       "(198, 5)"
      ]
     },
     "execution_count": 42,
     "metadata": {},
     "output_type": "execute_result"
    }
   ],
   "source": [
    "df_new.shape"
   ]
  },
  {
   "cell_type": "code",
   "execution_count": 43,
   "id": "c754d731",
   "metadata": {},
   "outputs": [],
   "source": [
    "data_loss=((200-198)/200)*100"
   ]
  },
  {
   "cell_type": "code",
   "execution_count": 44,
   "id": "c820d263",
   "metadata": {},
   "outputs": [
    {
     "data": {
      "text/plain": [
       "1.0"
      ]
     },
     "execution_count": 44,
     "metadata": {},
     "output_type": "execute_result"
    }
   ],
   "source": [
    "data_loss"
   ]
  },
  {
   "cell_type": "markdown",
   "id": "cee666db",
   "metadata": {},
   "source": [
    "This is the percentage of data lost"
   ]
  },
  {
   "cell_type": "markdown",
   "id": "aab28ebf",
   "metadata": {},
   "source": [
    "OUTLIERS HAS BEEN REMOVED FROM THE DATA."
   ]
  },
  {
   "cell_type": "markdown",
   "id": "f6ea879c",
   "metadata": {},
   "source": [
    "# seperating features and the target variable"
   ]
  },
  {
   "cell_type": "code",
   "execution_count": 45,
   "id": "8b6cef00",
   "metadata": {},
   "outputs": [],
   "source": [
    "features=df_new.drop('sales',axis=1)\n",
    "target=df_new['sales']"
   ]
  },
  {
   "cell_type": "markdown",
   "id": "0187c34c",
   "metadata": {},
   "source": [
    "# checking skewness in Data and Removing it"
   ]
  },
  {
   "cell_type": "code",
   "execution_count": 46,
   "id": "00823f76",
   "metadata": {},
   "outputs": [
    {
     "data": {
      "text/plain": [
       "Unnamed: 0   -0.006283\n",
       "TV           -0.082332\n",
       "radio         0.114842\n",
       "newspaper     0.650112\n",
       "dtype: float64"
      ]
     },
     "execution_count": 46,
     "metadata": {},
     "output_type": "execute_result"
    }
   ],
   "source": [
    "features.skew()"
   ]
  },
  {
   "cell_type": "markdown",
   "id": "9c39fc38",
   "metadata": {},
   "source": [
    "keeping -/+0.5 as the range of skewness. Here are the columns that are not in range."
   ]
  },
  {
   "cell_type": "markdown",
   "id": "5b2e4dfb",
   "metadata": {},
   "source": [
    "newspaper"
   ]
  },
  {
   "cell_type": "code",
   "execution_count": 47,
   "id": "d9cc519b",
   "metadata": {},
   "outputs": [
    {
     "data": {
      "image/png": "[encoded data removed]",
      "text/plain": [
       "<Figure size 1080x936 with 66 Axes>"
      ]
     },
     "metadata": {
      "needs_background": "light"
     },
     "output_type": "display_data"
    }
   ],
   "source": [
    "features.plot(kind='density',subplots=True,layout=(6,11),sharex=False,legend=False,fontsize=1,figsize=(15,13))\n",
    "plt.show()"
   ]
  },
  {
   "cell_type": "markdown",
   "id": "2afb002e",
   "metadata": {},
   "source": [
    "These diagrams shows that there is skewness present in the data in multiple columns"
   ]
  },
  {
   "cell_type": "markdown",
   "id": "2d1ef476",
   "metadata": {},
   "source": [
    "# Removing Skewness"
   ]
  },
  {
   "cell_type": "code",
   "execution_count": 48,
   "id": "54b6ee89",
   "metadata": {},
   "outputs": [],
   "source": [
    "from sklearn.preprocessing import power_transform"
   ]
  },
  {
   "cell_type": "code",
   "execution_count": 49,
   "id": "4a484143",
   "metadata": {},
   "outputs": [
    {
     "data": {
      "text/plain": [
       "newspaper     0.650112\n",
       "radio         0.114842\n",
       "Unnamed: 0   -0.006283\n",
       "TV           -0.082332\n",
       "dtype: float64"
      ]
     },
     "execution_count": 49,
     "metadata": {},
     "output_type": "execute_result"
    }
   ],
   "source": [
    "features.skew().sort_values(ascending=False)"
   ]
  },
  {
   "cell_type": "code",
   "execution_count": 50,
   "id": "e7ff0a0c",
   "metadata": {},
   "outputs": [],
   "source": [
    "features_n=power_transform(features,method='yeo-johnson')"
   ]
  },
  {
   "cell_type": "code",
   "execution_count": 51,
   "id": "e591dd86",
   "metadata": {},
   "outputs": [
    {
     "data": {
      "text/plain": [
       "newspaper    -0.101288\n",
       "radio        -0.236668\n",
       "Unnamed: 0   -0.269331\n",
       "TV           -0.320682\n",
       "dtype: float64"
      ]
     },
     "execution_count": 51,
     "metadata": {},
     "output_type": "execute_result"
    }
   ],
   "source": [
    "pd.DataFrame(features_n,columns=features.columns).skew().sort_values(ascending=False)"
   ]
  },
  {
   "cell_type": "markdown",
   "id": "34f20e6e",
   "metadata": {},
   "source": [
    "+0.32 to -0.32"
   ]
  },
  {
   "cell_type": "code",
   "execution_count": 52,
   "id": "4d4a4674",
   "metadata": {},
   "outputs": [
    {
     "data": {
      "text/plain": [
       "numpy.ndarray"
      ]
     },
     "execution_count": 52,
     "metadata": {},
     "output_type": "execute_result"
    }
   ],
   "source": [
    "type(features_n)"
   ]
  },
  {
   "cell_type": "code",
   "execution_count": 53,
   "id": "d054ffd2",
   "metadata": {},
   "outputs": [
    {
     "data": {
      "text/plain": [
       "Index(['Unnamed: 0', 'TV', 'radio', 'newspaper'], dtype='object')"
      ]
     },
     "execution_count": 53,
     "metadata": {},
     "output_type": "execute_result"
    }
   ],
   "source": [
    "features.columns"
   ]
  },
  {
   "cell_type": "code",
   "execution_count": 54,
   "id": "91e6e29c",
   "metadata": {},
   "outputs": [],
   "source": [
    "features=pd.DataFrame(features_n,columns=features.columns)"
   ]
  },
  {
   "cell_type": "code",
   "execution_count": 55,
   "id": "d00056a5",
   "metadata": {},
   "outputs": [
    {
     "data": {
      "text/plain": [
       "newspaper    -0.101288\n",
       "radio        -0.236668\n",
       "Unnamed: 0   -0.269331\n",
       "TV           -0.320682\n",
       "dtype: float64"
      ]
     },
     "execution_count": 55,
     "metadata": {},
     "output_type": "execute_result"
    }
   ],
   "source": [
    "features.skew().sort_values(ascending=False)"
   ]
  },
  {
   "cell_type": "markdown",
   "id": "8f73dc94",
   "metadata": {},
   "source": [
    "SKEWNESS HAS BEEN REMOVED FROM THE DATA"
   ]
  },
  {
   "cell_type": "markdown",
   "id": "08b01243",
   "metadata": {},
   "source": [
    "# Training Process Begins"
   ]
  },
  {
   "cell_type": "markdown",
   "id": "a173d352",
   "metadata": {},
   "source": [
    "# Finding Best Random State"
   ]
  },
  {
   "cell_type": "code",
   "execution_count": 56,
   "id": "8e6711aa",
   "metadata": {},
   "outputs": [],
   "source": [
    "from sklearn.preprocessing import MinMaxScaler\n",
    "mms=MinMaxScaler()\n",
    "from sklearn.linear_model import LinearRegression\n",
    "lr=LinearRegression()\n",
    "from sklearn.metrics import r2_score\n",
    "from sklearn.model_selection import train_test_split"
   ]
  },
  {
   "cell_type": "code",
   "execution_count": 57,
   "id": "1e357130",
   "metadata": {},
   "outputs": [],
   "source": [
    "import warnings\n",
    "warnings.filterwarnings('ignore')"
   ]
  },
  {
   "cell_type": "code",
   "execution_count": 58,
   "id": "9838888e",
   "metadata": {},
   "outputs": [
    {
     "name": "stdout",
     "output_type": "stream",
     "text": [
      "at random state 0,the train accuracy is:- 0.9013624575456813\n",
      "at random state 0,the testing accuracy is:- 0.9146519827987244\n",
      "\n",
      "\n",
      "at random state 1,the train accuracy is:- 0.9077514360485811\n",
      "at random state 1,the testing accuracy is:- 0.8883139576066575\n",
      "\n",
      "\n",
      "at random state 2,the train accuracy is:- 0.9147899503637928\n",
      "at random state 2,the testing accuracy is:- 0.867081775664214\n",
      "\n",
      "\n",
      "at random state 3,the train accuracy is:- 0.9040831806758857\n",
      "at random state 3,the testing accuracy is:- 0.9075404834679129\n",
      "\n",
      "\n",
      "at random state 4,the train accuracy is:- 0.9080633872155587\n",
      "at random state 4,the testing accuracy is:- 0.8798606489629514\n",
      "\n",
      "\n",
      "at random state 5,the train accuracy is:- 0.904512569921594\n",
      "at random state 5,the testing accuracy is:- 0.8937830174017429\n",
      "\n",
      "\n",
      "at random state 6,the train accuracy is:- 0.9072878883730298\n",
      "at random state 6,the testing accuracy is:- 0.8912767186695632\n",
      "\n",
      "\n",
      "at random state 7,the train accuracy is:- 0.9036990998054495\n",
      "at random state 7,the testing accuracy is:- 0.9062727660305309\n",
      "\n",
      "\n",
      "at random state 8,the train accuracy is:- 0.9088081404140247\n",
      "at random state 8,the testing accuracy is:- 0.8838147859184757\n",
      "\n",
      "\n",
      "at random state 9,the train accuracy is:- 0.9024340397875334\n",
      "at random state 9,the testing accuracy is:- 0.9115547009190186\n",
      "\n",
      "\n",
      "at random state 10,the train accuracy is:- 0.9256797251613994\n",
      "at random state 10,the testing accuracy is:- 0.8240181903570523\n",
      "\n",
      "\n",
      "at random state 11,the train accuracy is:- 0.8955463526245478\n",
      "at random state 11,the testing accuracy is:- 0.9321392875554244\n",
      "\n",
      "\n",
      "at random state 12,the train accuracy is:- 0.9033987831012193\n",
      "at random state 12,the testing accuracy is:- 0.9080457268941046\n",
      "\n",
      "\n",
      "at random state 13,the train accuracy is:- 0.9139782440440778\n",
      "at random state 13,the testing accuracy is:- 0.8603387443687546\n",
      "\n",
      "\n",
      "at random state 14,the train accuracy is:- 0.8991919456192283\n",
      "at random state 14,the testing accuracy is:- 0.914285975327562\n",
      "\n",
      "\n",
      "at random state 15,the train accuracy is:- 0.9027508061945358\n",
      "at random state 15,the testing accuracy is:- 0.9085958461668173\n",
      "\n",
      "\n",
      "at random state 16,the train accuracy is:- 0.9018802504033695\n",
      "at random state 16,the testing accuracy is:- 0.9126815238382329\n",
      "\n",
      "\n",
      "at random state 17,the train accuracy is:- 0.9052314533101944\n",
      "at random state 17,the testing accuracy is:- 0.9007605655728192\n",
      "\n",
      "\n",
      "at random state 18,the train accuracy is:- 0.9159540443878501\n",
      "at random state 18,the testing accuracy is:- 0.8609287835630111\n",
      "\n",
      "\n",
      "at random state 19,the train accuracy is:- 0.910045111617219\n",
      "at random state 19,the testing accuracy is:- 0.8526934628421052\n",
      "\n",
      "\n",
      "at random state 20,the train accuracy is:- 0.8981022151625145\n",
      "at random state 20,the testing accuracy is:- 0.9171871308410651\n",
      "\n",
      "\n",
      "at random state 21,the train accuracy is:- 0.8979277367218096\n",
      "at random state 21,the testing accuracy is:- 0.9241796892964074\n",
      "\n",
      "\n",
      "at random state 22,the train accuracy is:- 0.9003945244865361\n",
      "at random state 22,the testing accuracy is:- 0.9185400021529642\n",
      "\n",
      "\n",
      "at random state 23,the train accuracy is:- 0.8983092023543937\n",
      "at random state 23,the testing accuracy is:- 0.9271648925392347\n",
      "\n",
      "\n",
      "at random state 24,the train accuracy is:- 0.8949501902232665\n",
      "at random state 24,the testing accuracy is:- 0.93987977456244\n",
      "\n",
      "\n",
      "at random state 25,the train accuracy is:- 0.8966453779557677\n",
      "at random state 25,the testing accuracy is:- 0.9331764891283032\n",
      "\n",
      "\n",
      "at random state 26,the train accuracy is:- 0.9117269738974694\n",
      "at random state 26,the testing accuracy is:- 0.8493145793152065\n",
      "\n",
      "\n",
      "at random state 27,the train accuracy is:- 0.915707531390324\n",
      "at random state 27,the testing accuracy is:- 0.8458411154505727\n",
      "\n",
      "\n",
      "at random state 28,the train accuracy is:- 0.9197623030095886\n",
      "at random state 28,the testing accuracy is:- 0.8511839060447733\n",
      "\n",
      "\n",
      "at random state 29,the train accuracy is:- 0.9150170131848155\n",
      "at random state 29,the testing accuracy is:- 0.865145614023\n",
      "\n",
      "\n",
      "at random state 30,the train accuracy is:- 0.9191219734097389\n",
      "at random state 30,the testing accuracy is:- 0.8467480119355257\n",
      "\n",
      "\n",
      "at random state 31,the train accuracy is:- 0.8946477415974977\n",
      "at random state 31,the testing accuracy is:- 0.9298139614093628\n",
      "\n",
      "\n",
      "at random state 32,the train accuracy is:- 0.8984713648979379\n",
      "at random state 32,the testing accuracy is:- 0.9247182898111327\n",
      "\n",
      "\n",
      "at random state 33,the train accuracy is:- 0.9073951238379011\n",
      "at random state 33,the testing accuracy is:- 0.8894514160654396\n",
      "\n",
      "\n",
      "at random state 34,the train accuracy is:- 0.9077580548308547\n",
      "at random state 34,the testing accuracy is:- 0.8824673767692399\n",
      "\n",
      "\n",
      "at random state 35,the train accuracy is:- 0.8975740910463781\n",
      "at random state 35,the testing accuracy is:- 0.9376400434638156\n",
      "\n",
      "\n",
      "at random state 36,the train accuracy is:- 0.9031129436716356\n",
      "at random state 36,the testing accuracy is:- 0.9061544486955503\n",
      "\n",
      "\n",
      "at random state 37,the train accuracy is:- 0.9026642147809735\n",
      "at random state 37,the testing accuracy is:- 0.9162981909435179\n",
      "\n",
      "\n",
      "at random state 38,the train accuracy is:- 0.9021381727822615\n",
      "at random state 38,the testing accuracy is:- 0.9161134455886091\n",
      "\n",
      "\n",
      "at random state 39,the train accuracy is:- 0.9098615895901458\n",
      "at random state 39,the testing accuracy is:- 0.879880842512249\n",
      "\n",
      "\n",
      "at random state 40,the train accuracy is:- 0.9066054980445014\n",
      "at random state 40,the testing accuracy is:- 0.8901366199691526\n",
      "\n",
      "\n",
      "at random state 41,the train accuracy is:- 0.9084528097656382\n",
      "at random state 41,the testing accuracy is:- 0.8784572942649312\n",
      "\n",
      "\n",
      "at random state 42,the train accuracy is:- 0.9046846131539357\n",
      "at random state 42,the testing accuracy is:- 0.9037283031817129\n",
      "\n",
      "\n",
      "at random state 43,the train accuracy is:- 0.9062873335336281\n",
      "at random state 43,the testing accuracy is:- 0.8967203723921872\n",
      "\n",
      "\n",
      "at random state 44,the train accuracy is:- 0.9071036470282194\n",
      "at random state 44,the testing accuracy is:- 0.8685984311419854\n",
      "\n",
      "\n",
      "at random state 45,the train accuracy is:- 0.9045425023031801\n",
      "at random state 45,the testing accuracy is:- 0.899350423474848\n",
      "\n",
      "\n",
      "at random state 46,the train accuracy is:- 0.9088361069177516\n",
      "at random state 46,the testing accuracy is:- 0.8845246132021789\n",
      "\n",
      "\n",
      "at random state 47,the train accuracy is:- 0.9036164917771052\n",
      "at random state 47,the testing accuracy is:- 0.9065633501454841\n",
      "\n",
      "\n",
      "at random state 48,the train accuracy is:- 0.9106705992063449\n",
      "at random state 48,the testing accuracy is:- 0.880379907826344\n",
      "\n",
      "\n",
      "at random state 49,the train accuracy is:- 0.9144263913766575\n",
      "at random state 49,the testing accuracy is:- 0.8649512246670019\n",
      "\n",
      "\n",
      "at random state 50,the train accuracy is:- 0.9104918293815056\n",
      "at random state 50,the testing accuracy is:- 0.857139326245584\n",
      "\n",
      "\n",
      "at random state 51,the train accuracy is:- 0.9048537129379864\n",
      "at random state 51,the testing accuracy is:- 0.8923934904373296\n",
      "\n",
      "\n",
      "at random state 52,the train accuracy is:- 0.905527907202371\n",
      "at random state 52,the testing accuracy is:- 0.8959550860521085\n",
      "\n",
      "\n",
      "at random state 53,the train accuracy is:- 0.9111468579989777\n",
      "at random state 53,the testing accuracy is:- 0.8735195280462271\n",
      "\n",
      "\n",
      "at random state 54,the train accuracy is:- 0.9088115303356766\n",
      "at random state 54,the testing accuracy is:- 0.8846607774432694\n",
      "\n",
      "\n",
      "at random state 55,the train accuracy is:- 0.9040243283418953\n",
      "at random state 55,the testing accuracy is:- 0.904475831753802\n",
      "\n",
      "\n",
      "at random state 56,the train accuracy is:- 0.90887759613272\n",
      "at random state 56,the testing accuracy is:- 0.8840619103001928\n",
      "\n",
      "\n",
      "at random state 57,the train accuracy is:- 0.912240188670234\n",
      "at random state 57,the testing accuracy is:- 0.8773803293527673\n",
      "\n",
      "\n",
      "at random state 58,the train accuracy is:- 0.8986264229029339\n",
      "at random state 58,the testing accuracy is:- 0.9155430129246283\n",
      "\n",
      "\n",
      "at random state 59,the train accuracy is:- 0.9030535716207685\n",
      "at random state 59,the testing accuracy is:- 0.9057028257491655\n",
      "\n",
      "\n",
      "at random state 60,the train accuracy is:- 0.9061674286168262\n",
      "at random state 60,the testing accuracy is:- 0.8961995040385762\n",
      "\n",
      "\n",
      "at random state 61,the train accuracy is:- 0.9125321686056234\n",
      "at random state 61,the testing accuracy is:- 0.8715003089991749\n",
      "\n",
      "\n",
      "at random state 62,the train accuracy is:- 0.9096463701119278\n",
      "at random state 62,the testing accuracy is:- 0.8695531993540133\n",
      "\n",
      "\n",
      "at random state 63,the train accuracy is:- 0.9057930260396811\n",
      "at random state 63,the testing accuracy is:- 0.8990783919086361\n",
      "\n",
      "\n",
      "at random state 64,the train accuracy is:- 0.9004844973051471\n",
      "at random state 64,the testing accuracy is:- 0.9181713101304956\n",
      "\n",
      "\n",
      "at random state 65,the train accuracy is:- 0.9118762941355721\n",
      "at random state 65,the testing accuracy is:- 0.8780182400994412\n",
      "\n",
      "\n",
      "at random state 66,the train accuracy is:- 0.9108434404292285\n",
      "at random state 66,the testing accuracy is:- 0.8807013453378839\n",
      "\n",
      "\n",
      "at random state 67,the train accuracy is:- 0.8984454767429815\n",
      "at random state 67,the testing accuracy is:- 0.9273534341659954\n",
      "\n",
      "\n",
      "at random state 68,the train accuracy is:- 0.9108027000978131\n",
      "at random state 68,the testing accuracy is:- 0.8806082189561392\n",
      "\n",
      "\n",
      "at random state 69,the train accuracy is:- 0.9059378642107352\n",
      "at random state 69,the testing accuracy is:- 0.8954416784668551\n",
      "\n",
      "\n",
      "at random state 70,the train accuracy is:- 0.8982835095336746\n",
      "at random state 70,the testing accuracy is:- 0.9181605452310312\n",
      "\n",
      "\n",
      "at random state 71,the train accuracy is:- 0.911993702120037\n",
      "at random state 71,the testing accuracy is:- 0.859035085457345\n",
      "\n",
      "\n",
      "at random state 72,the train accuracy is:- 0.9049170314218868\n",
      "at random state 72,the testing accuracy is:- 0.9026008256234761\n",
      "\n",
      "\n",
      "at random state 73,the train accuracy is:- 0.9056826777564277\n",
      "at random state 73,the testing accuracy is:- 0.8957214516004007\n",
      "\n",
      "\n",
      "at random state 74,the train accuracy is:- 0.8889037386114117\n",
      "at random state 74,the testing accuracy is:- 0.9273908627937711\n",
      "\n",
      "\n",
      "at random state 75,the train accuracy is:- 0.9070550505123998\n",
      "at random state 75,the testing accuracy is:- 0.8784364829474844\n",
      "\n",
      "\n",
      "at random state 76,the train accuracy is:- 0.910625895712224\n",
      "at random state 76,the testing accuracy is:- 0.8749379726598073\n",
      "\n",
      "\n",
      "at random state 77,the train accuracy is:- 0.9005936047442382\n",
      "at random state 77,the testing accuracy is:- 0.9179396717199689\n",
      "\n",
      "\n",
      "at random state 78,the train accuracy is:- 0.9145872640587908\n",
      "at random state 78,the testing accuracy is:- 0.8448500646526833\n",
      "\n",
      "\n",
      "at random state 79,the train accuracy is:- 0.9034803668430709\n",
      "at random state 79,the testing accuracy is:- 0.9026942619250518\n",
      "\n",
      "\n",
      "at random state 80,the train accuracy is:- 0.9025671287076018\n",
      "at random state 80,the testing accuracy is:- 0.9124344375006055\n",
      "\n",
      "\n",
      "at random state 81,the train accuracy is:- 0.9011224883097682\n",
      "at random state 81,the testing accuracy is:- 0.9166632138784423\n",
      "\n",
      "\n",
      "at random state 82,the train accuracy is:- 0.9198025204696694\n",
      "at random state 82,the testing accuracy is:- 0.8439178024523133\n",
      "\n",
      "\n",
      "at random state 83,the train accuracy is:- 0.9107007842874723\n",
      "at random state 83,the testing accuracy is:- 0.8882283804337332\n",
      "\n",
      "\n",
      "at random state 84,the train accuracy is:- 0.8995070155859092\n",
      "at random state 84,the testing accuracy is:- 0.9192457742581296\n",
      "\n",
      "\n",
      "at random state 85,the train accuracy is:- 0.9147520377692429\n",
      "at random state 85,the testing accuracy is:- 0.8230184229081223\n",
      "\n",
      "\n",
      "at random state 86,the train accuracy is:- 0.9052124140804996\n",
      "at random state 86,the testing accuracy is:- 0.9008751057157607\n",
      "\n",
      "\n",
      "at random state 87,the train accuracy is:- 0.9146481396553091\n",
      "at random state 87,the testing accuracy is:- 0.8588057559870279\n",
      "\n",
      "\n",
      "at random state 88,the train accuracy is:- 0.9035304186548021\n",
      "at random state 88,the testing accuracy is:- 0.9100257264455356\n",
      "\n",
      "\n",
      "at random state 89,the train accuracy is:- 0.912091059363241\n",
      "at random state 89,the testing accuracy is:- 0.8574281915159843\n",
      "\n",
      "\n",
      "at random state 90,the train accuracy is:- 0.8917209881777757\n",
      "at random state 90,the testing accuracy is:- 0.9463756609310092\n",
      "\n",
      "\n",
      "at random state 91,the train accuracy is:- 0.904794207540015\n",
      "at random state 91,the testing accuracy is:- 0.899860720476195\n",
      "\n",
      "\n",
      "at random state 92,the train accuracy is:- 0.9089529805951099\n",
      "at random state 92,the testing accuracy is:- 0.8847667090282796\n",
      "\n",
      "\n",
      "at random state 93,the train accuracy is:- 0.9153247019053037\n",
      "at random state 93,the testing accuracy is:- 0.8624575352753734\n",
      "\n",
      "\n",
      "at random state 94,the train accuracy is:- 0.911508672566302\n",
      "at random state 94,the testing accuracy is:- 0.8822546952253025\n",
      "\n",
      "\n",
      "at random state 95,the train accuracy is:- 0.9133218514896938\n",
      "at random state 95,the testing accuracy is:- 0.8726543703671906\n",
      "\n",
      "\n",
      "at random state 96,the train accuracy is:- 0.9112645243301165\n",
      "at random state 96,the testing accuracy is:- 0.8704426387684263\n",
      "\n",
      "\n",
      "at random state 97,the train accuracy is:- 0.9029394639461437\n",
      "at random state 97,the testing accuracy is:- 0.9108186638362322\n",
      "\n",
      "\n",
      "at random state 98,the train accuracy is:- 0.9122882919208508\n",
      "at random state 98,the testing accuracy is:- 0.8697140397825276\n",
      "\n",
      "\n",
      "at random state 99,the train accuracy is:- 0.8954910587392898\n",
      "at random state 99,the testing accuracy is:- 0.9305166461096224\n",
      "\n",
      "\n"
     ]
    }
   ],
   "source": [
    "for i in range(0,100):\n",
    "    features_train,features_test,target_train,target_test=train_test_split(features,target,test_size=0.2,random_state=i)\n",
    "    lr.fit(features_train,target_train)\n",
    "    pre_train=lr.predict(features_train)\n",
    "    pre_test=lr.predict(features_test)\n",
    "    print(f\"at random state {i},the train accuracy is:- {r2_score(target_train,pre_train)}\")\n",
    "    print(f\"at random state {i},the testing accuracy is:- {r2_score(target_test,pre_test)}\")\n",
    "    print('\\n')"
   ]
  },
  {
   "cell_type": "markdown",
   "id": "8ad47f83",
   "metadata": {},
   "source": [
    "# Create train test split"
   ]
  },
  {
   "cell_type": "code",
   "execution_count": 59,
   "id": "ba7a4e2e",
   "metadata": {},
   "outputs": [],
   "source": [
    "features_train,features_test,target_train,target_test=train_test_split(features,target,test_size=.20,random_state=90)"
   ]
  },
  {
   "cell_type": "code",
   "execution_count": 60,
   "id": "87f9bfc4",
   "metadata": {},
   "outputs": [
    {
     "data": {
      "text/plain": [
       "(158, 4)"
      ]
     },
     "execution_count": 60,
     "metadata": {},
     "output_type": "execute_result"
    }
   ],
   "source": [
    "features_train.shape"
   ]
  },
  {
   "cell_type": "code",
   "execution_count": 61,
   "id": "799d4c27",
   "metadata": {},
   "outputs": [
    {
     "data": {
      "text/plain": [
       "(40, 4)"
      ]
     },
     "execution_count": 61,
     "metadata": {},
     "output_type": "execute_result"
    }
   ],
   "source": [
    "features_test.shape"
   ]
  },
  {
   "cell_type": "code",
   "execution_count": 62,
   "id": "57d00fde",
   "metadata": {},
   "outputs": [
    {
     "data": {
      "text/plain": [
       "(158,)"
      ]
     },
     "execution_count": 62,
     "metadata": {},
     "output_type": "execute_result"
    }
   ],
   "source": [
    "target_train.shape"
   ]
  },
  {
   "cell_type": "code",
   "execution_count": 63,
   "id": "c6744913",
   "metadata": {
    "scrolled": true
   },
   "outputs": [
    {
     "data": {
      "text/plain": [
       "(40,)"
      ]
     },
     "execution_count": 63,
     "metadata": {},
     "output_type": "execute_result"
    }
   ],
   "source": [
    "target_test.shape"
   ]
  },
  {
   "cell_type": "code",
   "execution_count": 66,
   "id": "fed1fe82",
   "metadata": {},
   "outputs": [
    {
     "data": {
      "text/html": [
       "<style>#sk-container-id-1 {color: black;background-color: white;}#sk-container-id-1 pre{padding: 0;}#sk-container-id-1 div.sk-toggleable {background-color: white;}#sk-container-id-1 label.sk-toggleable__label {cursor: pointer;display: block;width: 100%;margin-bottom: 0;padding: 0.3em;box-sizing: border-box;text-align: center;}#sk-container-id-1 label.sk-toggleable__label-arrow:before {content: \"▸\";float: left;margin-right: 0.25em;color: #696969;}#sk-container-id-1 label.sk-toggleable__label-arrow:hover:before {color: black;}#sk-container-id-1 div.sk-estimator:hover label.sk-toggleable__label-arrow:before {color: black;}#sk-container-id-1 div.sk-toggleable__content {max-height: 0;max-width: 0;overflow: hidden;text-align: left;background-color: #f0f8ff;}#sk-container-id-1 div.sk-toggleable__content pre {margin: 0.2em;color: black;border-radius: 0.25em;background-color: #f0f8ff;}#sk-container-id-1 input.sk-toggleable__control:checked~div.sk-toggleable__content {max-height: 200px;max-width: 100%;overflow: auto;}#sk-container-id-1 input.sk-toggleable__control:checked~label.sk-toggleable__label-arrow:before {content: \"▾\";}#sk-container-id-1 div.sk-estimator input.sk-toggleable__control:checked~label.sk-toggleable__label {background-color: #d4ebff;}#sk-container-id-1 div.sk-label input.sk-toggleable__control:checked~label.sk-toggleable__label {background-color: #d4ebff;}#sk-container-id-1 input.sk-hidden--visually {border: 0;clip: rect(1px 1px 1px 1px);clip: rect(1px, 1px, 1px, 1px);height: 1px;margin: -1px;overflow: hidden;padding: 0;position: absolute;width: 1px;}#sk-container-id-1 div.sk-estimator {font-family: monospace;background-color: #f0f8ff;border: 1px dotted black;border-radius: 0.25em;box-sizing: border-box;margin-bottom: 0.5em;}#sk-container-id-1 div.sk-estimator:hover {background-color: #d4ebff;}#sk-container-id-1 div.sk-parallel-item::after {content: \"\";width: 100%;border-bottom: 1px solid gray;flex-grow: 1;}#sk-container-id-1 div.sk-label:hover label.sk-toggleable__label {background-color: #d4ebff;}#sk-container-id-1 div.sk-serial::before {content: \"\";position: absolute;border-left: 1px solid gray;box-sizing: border-box;top: 0;bottom: 0;left: 50%;z-index: 0;}#sk-container-id-1 div.sk-serial {display: flex;flex-direction: column;align-items: center;background-color: white;padding-right: 0.2em;padding-left: 0.2em;position: relative;}#sk-container-id-1 div.sk-item {position: relative;z-index: 1;}#sk-container-id-1 div.sk-parallel {display: flex;align-items: stretch;justify-content: center;background-color: white;position: relative;}#sk-container-id-1 div.sk-item::before, #sk-container-id-1 div.sk-parallel-item::before {content: \"\";position: absolute;border-left: 1px solid gray;box-sizing: border-box;top: 0;bottom: 0;left: 50%;z-index: -1;}#sk-container-id-1 div.sk-parallel-item {display: flex;flex-direction: column;z-index: 1;position: relative;background-color: white;}#sk-container-id-1 div.sk-parallel-item:first-child::after {align-self: flex-end;width: 50%;}#sk-container-id-1 div.sk-parallel-item:last-child::after {align-self: flex-start;width: 50%;}#sk-container-id-1 div.sk-parallel-item:only-child::after {width: 0;}#sk-container-id-1 div.sk-dashed-wrapped {border: 1px dashed gray;margin: 0 0.4em 0.5em 0.4em;box-sizing: border-box;padding-bottom: 0.4em;background-color: white;}#sk-container-id-1 div.sk-label label {font-family: monospace;font-weight: bold;display: inline-block;line-height: 1.2em;}#sk-container-id-1 div.sk-label-container {text-align: center;}#sk-container-id-1 div.sk-container {/* jupyter's `normalize.less` sets `[hidden] { display: none; }` but bootstrap.min.css set `[hidden] { display: none !important; }` so we also need the `!important` here to be able to override the default hidden behavior on the sphinx rendered scikit-learn.org. See: https://github.com/scikit-learn/scikit-learn/issues/21755 */display: inline-block !important;position: relative;}#sk-container-id-1 div.sk-text-repr-fallback {display: none;}</style><div id=\"sk-container-id-1\" class=\"sk-top-container\"><div class=\"sk-text-repr-fallback\"><pre>LinearRegression()</pre><b>In a Jupyter environment, please rerun this cell to show the HTML representation or trust the notebook. <br />On GitHub, the HTML representation is unable to render, please try loading this page with nbviewer.org.</b></div><div class=\"sk-container\" hidden><div class=\"sk-item\"><div class=\"sk-estimator sk-toggleable\"><input class=\"sk-toggleable__control sk-hidden--visually\" id=\"sk-estimator-id-1\" type=\"checkbox\" checked><label for=\"sk-estimator-id-1\" class=\"sk-toggleable__label sk-toggleable__label-arrow\">LinearRegression</label><div class=\"sk-toggleable__content\"><pre>LinearRegression()</pre></div></div></div></div></div>"
      ],
      "text/plain": [
       "LinearRegression()"
      ]
     },
     "execution_count": 66,
     "metadata": {},
     "output_type": "execute_result"
    }
   ],
   "source": [
    "lr.fit(features_train,target_train)"
   ]
  },
  {
   "cell_type": "markdown",
   "id": "4c0232cd",
   "metadata": {},
   "source": [
    "test accuracy"
   ]
  },
  {
   "cell_type": "code",
   "execution_count": 68,
   "id": "5eabd692",
   "metadata": {},
   "outputs": [],
   "source": [
    "pre_test=lr.predict(features_test)"
   ]
  },
  {
   "cell_type": "code",
   "execution_count": 69,
   "id": "36c150e9",
   "metadata": {},
   "outputs": [
    {
     "name": "stdout",
     "output_type": "stream",
     "text": [
      "0.9463756609310092\n"
     ]
    }
   ],
   "source": [
    " print(r2_score(target_test,pre_test))"
   ]
  },
  {
   "cell_type": "markdown",
   "id": "ba76e50c",
   "metadata": {},
   "source": [
    "train accuracy"
   ]
  },
  {
   "cell_type": "code",
   "execution_count": 70,
   "id": "faced505",
   "metadata": {},
   "outputs": [],
   "source": [
    " pre_train=lr.predict(features_train)"
   ]
  },
  {
   "cell_type": "code",
   "execution_count": 71,
   "id": "c258e9d3",
   "metadata": {},
   "outputs": [
    {
     "name": "stdout",
     "output_type": "stream",
     "text": [
      "0.8917209881777757\n"
     ]
    }
   ],
   "source": [
    "print(r2_score(target_train,pre_train))"
   ]
  },
  {
   "cell_type": "markdown",
   "id": "c8b53d51",
   "metadata": {},
   "source": [
    "# Cross Validation"
   ]
  },
  {
   "cell_type": "code",
   "execution_count": 73,
   "id": "eb7b229c",
   "metadata": {},
   "outputs": [
    {
     "name": "stdout",
     "output_type": "stream",
     "text": [
      "at cross fold 2 the cv score is 0.8822554688777031 and accuracy score for training is 0.8917209881777757 and accuracy score for testing is 0.9463756609310092\n",
      "\n",
      "\n",
      "at cross fold 3 the cv score is 0.8967803175870005 and accuracy score for training is 0.8917209881777757 and accuracy score for testing is 0.9463756609310092\n",
      "\n",
      "\n",
      "at cross fold 4 the cv score is 0.8926383342167619 and accuracy score for training is 0.8917209881777757 and accuracy score for testing is 0.9463756609310092\n",
      "\n",
      "\n",
      "at cross fold 5 the cv score is 0.8934477544725891 and accuracy score for training is 0.8917209881777757 and accuracy score for testing is 0.9463756609310092\n",
      "\n",
      "\n",
      "at cross fold 6 the cv score is 0.8958573772376907 and accuracy score for training is 0.8917209881777757 and accuracy score for testing is 0.9463756609310092\n",
      "\n",
      "\n",
      "at cross fold 7 the cv score is 0.8912474492966211 and accuracy score for training is 0.8917209881777757 and accuracy score for testing is 0.9463756609310092\n",
      "\n",
      "\n",
      "at cross fold 8 the cv score is 0.8956422782886657 and accuracy score for training is 0.8917209881777757 and accuracy score for testing is 0.9463756609310092\n",
      "\n",
      "\n",
      "at cross fold 9 the cv score is 0.8916056030041695 and accuracy score for training is 0.8917209881777757 and accuracy score for testing is 0.9463756609310092\n",
      "\n",
      "\n"
     ]
    }
   ],
   "source": [
    "train_accuracy=r2_score(target_train,pre_train)\n",
    "testing_accuracy=r2_score(target_test,pre_test)\n",
    "\n",
    "from sklearn.model_selection import cross_val_score\n",
    "for j in range(2,10):\n",
    "    cv_score=cross_val_score(lr,features,target,cv=j)\n",
    "    cv_mean=cv_score.mean()\n",
    "    print(f\"at cross fold {j} the cv score is {cv_mean} and accuracy score for training is {train_accuracy} and accuracy score for testing is {testing_accuracy}\")\n",
    "    print('\\n')"
   ]
  },
  {
   "cell_type": "markdown",
   "id": "3851b8e7",
   "metadata": {},
   "source": [
    "since the number of fold don't have such impact on accuracy and cv score so cv=3 is selected."
   ]
  },
  {
   "cell_type": "markdown",
   "id": "6bfa8649",
   "metadata": {},
   "source": [
    "we have to handle the problem of overfitting and underfitting by checking training and testing score."
   ]
  },
  {
   "cell_type": "code",
   "execution_count": 74,
   "id": "8a119c2e",
   "metadata": {},
   "outputs": [
    {
     "data": {
      "image/png": "[encoded data removed]",
      "text/plain": [
       "<Figure size 432x288 with 1 Axes>"
      ]
     },
     "metadata": {
      "needs_background": "light"
     },
     "output_type": "display_data"
    }
   ],
   "source": [
    "import matplotlib.pyplot as plt\n",
    "plt.figure(figsize=(6,4))\n",
    "plt.scatter(x=target_test, y=pre_test, color='r')\n",
    "plt.plot(target_test,target_test,color='b')\n",
    "plt.xlabel('actual sales',fontsize=12)\n",
    "plt.ylabel('predict sales',fontsize=12)\n",
    "plt.savefig('lr.png')\n",
    "plt.show()\n"
   ]
  },
  {
   "cell_type": "markdown",
   "id": "3c43ad66",
   "metadata": {},
   "source": [
    "this is the LINEAR REGRESSION"
   ]
  },
  {
   "cell_type": "code",
   "execution_count": 75,
   "id": "669370a0",
   "metadata": {},
   "outputs": [],
   "source": [
    "from sklearn.model_selection import GridSearchCV\n",
    "from sklearn.model_selection import cross_val_score\n",
    "import warnings\n",
    "warnings.filterwarnings('ignore')"
   ]
  },
  {
   "cell_type": "code",
   "execution_count": 77,
   "id": "5e00d201",
   "metadata": {},
   "outputs": [
    {
     "name": "stdout",
     "output_type": "stream",
     "text": [
      "{'alpha': 0.01, 'random_state': 0}\n"
     ]
    }
   ],
   "source": [
    "from sklearn.linear_model import Lasso\n",
    "parameters ={'alpha':[.0001,.001,.01,1,10],'random_state':list(range(0,10))}\n",
    "ls=Lasso()\n",
    "clf = GridSearchCV(ls,parameters)\n",
    "clf.fit(features_train,target_train)\n",
    "print(clf.best_params_)\n"
   ]
  },
  {
   "cell_type": "markdown",
   "id": "e1182d64",
   "metadata": {},
   "source": [
    "# Final model training"
   ]
  },
  {
   "cell_type": "code",
   "execution_count": 81,
   "id": "3883d999",
   "metadata": {},
   "outputs": [
    {
     "data": {
      "text/plain": [
       "81.66682635466486"
      ]
     },
     "execution_count": 81,
     "metadata": {},
     "output_type": "execute_result"
    }
   ],
   "source": [
    "ls=Lasso(alpha=1,random_state=0)\n",
    "ls.fit(features_train,target_train)\n",
    "ls_score_training=ls.score(features_train,target_train)\n",
    "pred_ls=ls.predict(features_test)\n",
    "ls_score_training*100"
   ]
  },
  {
   "cell_type": "code",
   "execution_count": 83,
   "id": "6d2d501c",
   "metadata": {},
   "outputs": [],
   "source": [
    "pred_ls=ls.predict(features_test)"
   ]
  },
  {
   "cell_type": "code",
   "execution_count": 84,
   "id": "6ec3b199",
   "metadata": {},
   "outputs": [
    {
     "data": {
      "text/plain": [
       "83.74594294941052"
      ]
     },
     "execution_count": 84,
     "metadata": {},
     "output_type": "execute_result"
    }
   ],
   "source": [
    "lss=r2_score(target_test,pred_ls)\n",
    "lss*100"
   ]
  },
  {
   "cell_type": "code",
   "execution_count": 85,
   "id": "51b37594",
   "metadata": {},
   "outputs": [
    {
     "data": {
      "text/plain": [
       "82.66925651183507"
      ]
     },
     "execution_count": 85,
     "metadata": {},
     "output_type": "execute_result"
    }
   ],
   "source": [
    "cv_score=cross_val_score(ls,features,target,cv=3)\n",
    "cv_mean=cv_score.mean()\n",
    "cv_mean*100"
   ]
  },
  {
   "cell_type": "markdown",
   "id": "2fa25870",
   "metadata": {},
   "source": [
    "# Ensemble technique"
   ]
  },
  {
   "cell_type": "code",
   "execution_count": 87,
   "id": "1a4799b3",
   "metadata": {},
   "outputs": [
    {
     "name": "stdout",
     "output_type": "stream",
     "text": [
      "{'criterion': 'mae', 'max_features': 'auto'}\n"
     ]
    }
   ],
   "source": [
    "from sklearn.model_selection import GridSearchCV\n",
    "from sklearn.ensemble import RandomForestRegressor\n",
    "parameters={'criterion':['mse','mae'],'max_features':['auto','sqrt','log2']}\n",
    "rf=RandomForestRegressor()\n",
    "clf=GridSearchCV(rf,parameters)\n",
    "clf.fit(features_train,target_train)\n",
    "\n",
    "print(clf.best_params_)\n",
    "    "
   ]
  },
  {
   "cell_type": "code",
   "execution_count": 96,
   "id": "bf5fe4eb",
   "metadata": {},
   "outputs": [
    {
     "name": "stdout",
     "output_type": "stream",
     "text": [
      "cross val score 97.0147705211456\n"
     ]
    }
   ],
   "source": [
    "rf=RandomForestRegressor(criterion='mae',max_features='auto')\n",
    "rf.fit(features_train,target_train)\n",
    "rf.score(features_train,target_train)\n",
    "prediction_decision=rf.predict(features_test)\n",
    "\n",
    "\n",
    "rfscore=cross_val_score(rf,features,target,cv=3)\n",
    "rfc=rfscore.mean()\n",
    "print('cross val score',rfc*100)"
   ]
  },
  {
   "cell_type": "code",
   "execution_count": 97,
   "id": "f5a413b6",
   "metadata": {},
   "outputs": [
    {
     "name": "stdout",
     "output_type": "stream",
     "text": [
      "r2_score is 97.75678028368043\n"
     ]
    }
   ],
   "source": [
    "rfs=r2_score(target_test,prediction_decision)\n",
    "print('r2_score is',rfs*100)\n"
   ]
  },
  {
   "cell_type": "code",
   "execution_count": 110,
   "id": "e4d9028a",
   "metadata": {},
   "outputs": [],
   "source": [
    "import pickle\n",
    "filename='ad_sale.pkl'\n",
    "pickle.dump(rf,open('ad_sale.pkl','wb'))"
   ]
  },
  {
   "cell_type": "code",
   "execution_count": null,
   "id": "b402127a",
   "metadata": {},
   "outputs": [],
   "source": []
  }
 ],
 "metadata": {
  "kernelspec": {
   "display_name": "Python 3 (ipykernel)",
   "language": "python",
   "name": "python3"
  },
  "language_info": {
   "codemirror_mode": {
    "name": "ipython",
    "version": 3
   },
   "file_extension": ".py",
   "mimetype": "text/x-python",
   "name": "python",
   "nbconvert_exporter": "python",
   "pygments_lexer": "ipython3",
   "version": "3.9.12"
  }
 },
 "nbformat": 4,
 "nbformat_minor": 5
}
